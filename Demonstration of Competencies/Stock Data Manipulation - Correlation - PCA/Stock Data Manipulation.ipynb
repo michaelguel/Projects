{
 "cells": [
  {
   "cell_type": "code",
   "execution_count": 8,
   "id": "ec86a1af",
   "metadata": {},
   "outputs": [
    {
     "data": {
      "text/html": [
       "<div>\n",
       "<style scoped>\n",
       "    .dataframe tbody tr th:only-of-type {\n",
       "        vertical-align: middle;\n",
       "    }\n",
       "\n",
       "    .dataframe tbody tr th {\n",
       "        vertical-align: top;\n",
       "    }\n",
       "\n",
       "    .dataframe thead th {\n",
       "        text-align: right;\n",
       "    }\n",
       "</style>\n",
       "<table border=\"1\" class=\"dataframe\">\n",
       "  <thead>\n",
       "    <tr style=\"text-align: right;\">\n",
       "      <th></th>\n",
       "      <th>id</th>\n",
       "      <th>title</th>\n",
       "      <th>date</th>\n",
       "      <th>ip</th>\n",
       "    </tr>\n",
       "  </thead>\n",
       "  <tbody>\n",
       "    <tr>\n",
       "      <th>0</th>\n",
       "      <td>9019643</td>\n",
       "      <td>Anarchism</td>\n",
       "      <td>2005-01-01</td>\n",
       "      <td>ip:24.136.172.37</td>\n",
       "    </tr>\n",
       "    <tr>\n",
       "      <th>1</th>\n",
       "      <td>9062018</td>\n",
       "      <td>Anarchism</td>\n",
       "      <td>2005-01-03</td>\n",
       "      <td>ip:137.53.22.23</td>\n",
       "    </tr>\n",
       "    <tr>\n",
       "      <th>2</th>\n",
       "      <td>9085524</td>\n",
       "      <td>Anarchism</td>\n",
       "      <td>2005-01-03</td>\n",
       "      <td>ip:24.42.90.254</td>\n",
       "    </tr>\n",
       "    <tr>\n",
       "      <th>3</th>\n",
       "      <td>9140836</td>\n",
       "      <td>Anarchism</td>\n",
       "      <td>2005-01-06</td>\n",
       "      <td>ip:69.61.184.201</td>\n",
       "    </tr>\n",
       "    <tr>\n",
       "      <th>4</th>\n",
       "      <td>9160986</td>\n",
       "      <td>A</td>\n",
       "      <td>2005-01-06</td>\n",
       "      <td>Fvw</td>\n",
       "    </tr>\n",
       "  </tbody>\n",
       "</table>\n",
       "</div>"
      ],
      "text/plain": [
       "        id      title        date                ip\n",
       "0  9019643  Anarchism  2005-01-01  ip:24.136.172.37\n",
       "1  9062018  Anarchism  2005-01-03   ip:137.53.22.23\n",
       "2  9085524  Anarchism  2005-01-03   ip:24.42.90.254\n",
       "3  9140836  Anarchism  2005-01-06  ip:69.61.184.201\n",
       "4  9160986          A  2005-01-06               Fvw"
      ]
     },
     "execution_count": 8,
     "metadata": {},
     "output_type": "execute_result"
    }
   ],
   "source": [
    "import pandas as pd\n",
    "\n",
    "columns = ['id','title','date','ip']\n",
    "\n",
    "data = pd.read_csv('wiki_edit.txt',sep = ' ',names = columns)\n",
    "\n",
    "data.head()"
   ]
  },
  {
   "cell_type": "code",
   "execution_count": 30,
   "id": "64a5edaa",
   "metadata": {},
   "outputs": [],
   "source": [
    "use = data.groupby(['title'])['title'].value_counts().to_frame().reset_index()"
   ]
  },
  {
   "cell_type": "code",
   "execution_count": 34,
   "id": "d4e1ce39",
   "metadata": {},
   "outputs": [
    {
     "data": {
      "text/html": [
       "<div>\n",
       "<style scoped>\n",
       "    .dataframe tbody tr th:only-of-type {\n",
       "        vertical-align: middle;\n",
       "    }\n",
       "\n",
       "    .dataframe tbody tr th {\n",
       "        vertical-align: top;\n",
       "    }\n",
       "\n",
       "    .dataframe thead th {\n",
       "        text-align: right;\n",
       "    }\n",
       "</style>\n",
       "<table border=\"1\" class=\"dataframe\">\n",
       "  <thead>\n",
       "    <tr style=\"text-align: right;\">\n",
       "      <th></th>\n",
       "      <th>title</th>\n",
       "      <th>count</th>\n",
       "    </tr>\n",
       "  </thead>\n",
       "  <tbody>\n",
       "    <tr>\n",
       "      <th>0</th>\n",
       "      <td>%s_(printf)</td>\n",
       "      <td>1</td>\n",
       "    </tr>\n",
       "    <tr>\n",
       "      <th>1</th>\n",
       "      <td>&amp;c._(weblog)</td>\n",
       "      <td>1</td>\n",
       "    </tr>\n",
       "    <tr>\n",
       "      <th>2</th>\n",
       "      <td>'N_Sync</td>\n",
       "      <td>1</td>\n",
       "    </tr>\n",
       "    <tr>\n",
       "      <th>3</th>\n",
       "      <td>(29075)_1950_DA</td>\n",
       "      <td>1</td>\n",
       "    </tr>\n",
       "    <tr>\n",
       "      <th>4</th>\n",
       "      <td>-phob-</td>\n",
       "      <td>1</td>\n",
       "    </tr>\n",
       "    <tr>\n",
       "      <th>...</th>\n",
       "      <td>...</td>\n",
       "      <td>...</td>\n",
       "    </tr>\n",
       "    <tr>\n",
       "      <th>21290</th>\n",
       "      <td>Ōtsuchi</td>\n",
       "      <td>1</td>\n",
       "    </tr>\n",
       "    <tr>\n",
       "      <th>21291</th>\n",
       "      <td>Ōuchiyama,_Mie</td>\n",
       "      <td>1</td>\n",
       "    </tr>\n",
       "    <tr>\n",
       "      <th>21292</th>\n",
       "      <td>Żabbar</td>\n",
       "      <td>1</td>\n",
       "    </tr>\n",
       "    <tr>\n",
       "      <th>21293</th>\n",
       "      <td>Žarko_Dolinar</td>\n",
       "      <td>1</td>\n",
       "    </tr>\n",
       "    <tr>\n",
       "      <th>21294</th>\n",
       "      <td>Π_(film)</td>\n",
       "      <td>1</td>\n",
       "    </tr>\n",
       "  </tbody>\n",
       "</table>\n",
       "<p>21295 rows × 2 columns</p>\n",
       "</div>"
      ],
      "text/plain": [
       "                 title  count\n",
       "0          %s_(printf)      1\n",
       "1         &c._(weblog)      1\n",
       "2              'N_Sync      1\n",
       "3      (29075)_1950_DA      1\n",
       "4               -phob-      1\n",
       "...                ...    ...\n",
       "21290          Ōtsuchi      1\n",
       "21291   Ōuchiyama,_Mie      1\n",
       "21292           Żabbar      1\n",
       "21293    Žarko_Dolinar      1\n",
       "21294         Π_(film)      1\n",
       "\n",
       "[21295 rows x 2 columns]"
      ]
     },
     "execution_count": 34,
     "metadata": {},
     "output_type": "execute_result"
    }
   ],
   "source": [
    "# I was unable to get this portion done, I wrote a psuedo code to \n",
    "# show my understanding\n",
    "\n",
    "stream = use[0:1000]\n",
    "\n",
    "d = {}\n",
    "k = x\n",
    "\n",
    "result = []\n",
    "for i in stream:\n",
    "    if i in d:\n",
    "        d{i,+1}\n",
    "    else if length(d) < k - 1:\n",
    "        d{i,1}.add\n",
    "    else:\n",
    "        for key,value in d:\n",
    "            value - 1\n",
    "            if value = 0:\n",
    "                d{key,value}.drop\n",
    "\n",
    "            \n",
    "for key,value in d:\n",
    "    (key,value).append\n",
    "\n",
    "\n"
   ]
  },
  {
   "cell_type": "code",
   "execution_count": 88,
   "id": "e99845d0",
   "metadata": {},
   "outputs": [],
   "source": [
    "aapl = pd.read_csv('aapl.csv')\n",
    "bac = pd.read_csv('bac.csv')\n",
    "c = pd.read_csv('c.csv')\n",
    "f = pd.read_csv('f.csv')\n",
    "goog = pd.read_csv('goog.csv')\n",
    "hmc = pd.read_csv('hmc.csv')\n",
    "msft = pd.read_csv('msft.csv')\n",
    "tym = pd.read_csv('tym.csv')\n",
    "wfc = pd.read_csv('wfc.csv')\n",
    "\n",
    "stocks = ['aapl','bac','c','f','goog','hmc','msft','tym','wfc']"
   ]
  },
  {
   "cell_type": "code",
   "execution_count": 90,
   "id": "41f41df6",
   "metadata": {},
   "outputs": [],
   "source": [
    "aapl['lag'] = aapl['Close'].shift(1)\n",
    "\n",
    "aapl['change'] = aapl['lag'] - aapl['Close']\n",
    "\n",
    "\n",
    "bac['lag'] = bac['Close'].shift(1)\n",
    "\n",
    "bac['change'] = bac['lag'] - bac['Close']\n",
    "\n",
    "\n",
    "c['lag'] = c['Close'].shift(1)\n",
    "\n",
    "c['change'] = c['lag'] - c['Close']\n",
    "\n",
    "\n",
    "f['lag'] = f['Close'].shift(1)\n",
    "\n",
    "f['change'] = f['lag'] - f['Close']\n",
    "\n",
    "\n",
    "goog['lag'] = goog['Close'].shift(1)\n",
    "\n",
    "goog['change'] = goog['lag'] - goog['Close']\n",
    "\n",
    "\n",
    "hmc['lag'] = hmc['Close'].shift(1)\n",
    "\n",
    "hmc['change'] = hmc['lag'] - hmc['Close']\n",
    "\n",
    "\n",
    "msft['lag'] = msft['Close'].shift(1)\n",
    "\n",
    "msft['change'] = msft['lag'] - msft['Close']\n",
    "\n",
    "\n",
    "tym['lag'] = tym['Close'].shift(1)\n",
    "\n",
    "tym['change'] = tym['lag'] - tym['Close']\n",
    "\n",
    "\n",
    "wfc['lag'] = wfc['Close'].shift(1)\n",
    "\n",
    "wfc['change'] = wfc['lag'] - wfc['Close']\n"
   ]
  },
  {
   "cell_type": "code",
   "execution_count": 151,
   "id": "f0ee4d72",
   "metadata": {},
   "outputs": [
    {
     "data": {
      "text/plain": [
       "0.5315427172318341"
      ]
     },
     "execution_count": 151,
     "metadata": {},
     "output_type": "execute_result"
    }
   ],
   "source": [
    "import numpy as np\n",
    "\n",
    "newdata = pd.DataFrame()\n",
    "\n",
    "newdata['aapl'],newdata['bac'],newdata['c'],newdata['f'],newdata['goog'],newdata['hmc'],newdata['msft'],newdata['tym'],newdata['wfc'], = aapl['change'],bac['change'],c['change'],f['change'],goog['change'],hmc['change'],msft['change'],tym['change'],wfc['change']\n",
    "\n",
    "newdata = newdata.drop(index=0)\n",
    "\n",
    "corrmat = newdata.corr(method = 'pearson')\n",
    "\n",
    "#corrmat[['bac','c','wfc']]\n",
    "\n",
    "need = corrmat.loc[['bac','c','wfc'],['bac','c','wfc']]\n",
    "\n",
    "m = np.triu(np.ones_like(need))\n",
    "\n",
    "np.nansum(need.where(m == 0).to_numpy())/3\n",
    "\n"
   ]
  },
  {
   "cell_type": "code",
   "execution_count": 147,
   "id": "4b6eb796",
   "metadata": {},
   "outputs": [
    {
     "data": {
      "text/plain": [
       "0.2235056749582714"
      ]
     },
     "execution_count": 147,
     "metadata": {},
     "output_type": "execute_result"
    }
   ],
   "source": [
    "need = corrmat.loc[['bac','c','wfc'],['aapl','msft','goog']]\n",
    "\n",
    "m = np.triu(np.ones_like(need))\n",
    "\n",
    "(need.values.sum())/9\n",
    "\n",
    "# they have a higher average coorelation within group\n"
   ]
  },
  {
   "cell_type": "code",
   "execution_count": 153,
   "id": "e99769d8",
   "metadata": {},
   "outputs": [],
   "source": [
    "from sklearn.decomposition import PCA\n",
    "\n",
    "pca = PCA(n_components=3)\n",
    "\n",
    "principalcomponents = pca.fit_transform(newdata)"
   ]
  },
  {
   "cell_type": "code",
   "execution_count": 154,
   "id": "a2a6a322",
   "metadata": {},
   "outputs": [],
   "source": [
    "principaldf = pd.DataFrame(data = principalcomponents, columns = ['pca1', 'pca2','pca3'])"
   ]
  },
  {
   "cell_type": "code",
   "execution_count": 229,
   "id": "bf97df7e",
   "metadata": {},
   "outputs": [
    {
     "data": {
      "text/plain": [
       "Text(0.5, 1.0, '3rd PC')"
      ]
     },
     "execution_count": 229,
     "metadata": {},
     "output_type": "execute_result"
    },
    {
     "data": {
      "image/png": "[encoded data removed]",
      "text/plain": [
       "<Figure size 640x480 with 3 Axes>"
      ]
     },
     "metadata": {},
     "output_type": "display_data"
    }
   ],
   "source": [
    "from pandas import Series\n",
    "\n",
    "import matplotlib.pyplot as plt\n",
    "\n",
    "aatrib = list(newdata)\n",
    "\n",
    "#pcdata = Series()\n",
    "\n",
    "fix,axes = plt.subplots(3,1,sharex=True)\n",
    "\n",
    "pcdata = Series(pca.components_[0,],index=aatrib)\n",
    "\n",
    "pcdata.plot(kind = 'barh',ax = axes[0],color='k',alpha=.7)\n",
    "\n",
    "axes[0].set_title(r'1st PC',size = 'x-large')\n",
    "\n",
    "pcdata = Series(pca.components_[1,],index=aatrib)\n",
    "\n",
    "pcdata.plot(kind = 'barh',ax = axes[1],color='k',alpha=.7)\n",
    "\n",
    "axes[1].set_title(r'2nd PC',size = 'x-large')\n",
    "\n",
    "pcdata = Series(pca.components_[2,],index=aatrib)\n",
    "\n",
    "pcdata.plot(kind = 'barh',ax = axes[2],color='k',alpha=.7)\n",
    "\n",
    "axes[2].set_title(r'3rd PC',size = 'x-large')\n"
   ]
  },
  {
   "cell_type": "code",
   "execution_count": 222,
   "id": "73095e4d",
   "metadata": {},
   "outputs": [
    {
     "data": {
      "text/plain": [
       "array([-0.21861254, -0.00968559, -0.0155541 , -0.00380567, -0.97506698,\n",
       "       -0.00935095, -0.01283292, -0.02587315, -0.01345981])"
      ]
     },
     "execution_count": 222,
     "metadata": {},
     "output_type": "execute_result"
    }
   ],
   "source": [
    "pca.components_[0,]"
   ]
  }
 ],
 "metadata": {
  "kernelspec": {
   "display_name": "Python 3 (ipykernel)",
   "language": "python",
   "name": "python3"
  },
  "language_info": {
   "codemirror_mode": {
    "name": "ipython",
    "version": 3
   },
   "file_extension": ".py",
   "mimetype": "text/x-python",
   "name": "python",
   "nbconvert_exporter": "python",
   "pygments_lexer": "ipython3",
   "version": "3.11.5"
  }
 },
 "nbformat": 4,
 "nbformat_minor": 5
}
