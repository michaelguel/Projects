{
 "cells": [
  {
   "cell_type": "markdown",
   "id": "8b8aad94",
   "metadata": {},
   "source": [
    "# Let's derive linear regression equation using\n",
    "\n",
    "$${\\cal L}(m,b) = \\frac{1}{2}\\sum_d \\left(y_d - mx_d - b \\right)^2,$$\n",
    "and the minimization condition\n",
    "$$\\frac{\\partial {\\cal L}}{\\partial m} = 0,$$\n",
    "$$\\frac{\\partial {\\cal L}}{\\partial b} = 0.$$"
   ]
  },
  {
   "cell_type": "markdown",
   "id": "5014f6e2",
   "metadata": {},
   "source": [
    "## Partials\n",
    "\n",
    "$$\\frac{\\partial {\\cal L}}{\\partial m} = -2XdYd + 2MXd^2 + 2BXd,$$\n",
    "\n",
    "$$\\frac{\\partial {\\cal L}}{\\partial b} = -2Yd + 2MXd + 2B.$$\n",
    "\n",
    "## Minimization\n",
    "\n",
    "$$\\frac{\\partial {\\cal L}}{\\partial m} = 0 = -XdYd + MXd^2 + BXd,$$\n",
    "\n",
    "$$\\frac{\\partial {\\cal L}}{\\partial b} = 0 = -Yd + MXd + B.$$\n",
    "\n",
    "## Solving for m, using both equations to isolate m\n",
    "\n",
    "$$ m = -XdYd + MXd^2 + BXd ==> M * X^2/X + B = XY/X $$\n",
    "\n",
    "$$ b = -Yd + MXd + B ==> MX + B = Y$$\n",
    "\n",
    "### Subtract first equation from second to remove b\n",
    "\n",
    "$$ M(X - X^2/X) = Y - XY/X $$\n",
    "\n",
    "#### Divide by m side to isolate, then remove denominators\n",
    "\n",
    "$$ M = (Y - XY/X) / (X-X^2/X) $$\n",
    "\n",
    "$$ M = (X Y - XY) / ((X)^2 - X^2) ==> (E[X,Y] - E[X]E[Y]) / (E[X,X] - E[X]^2) $$\n",
    "\n",
    "$$ M = COV(X,Y) / COV(X,X) $$\n",
    "\n",
    "### Solving for b\n",
    "\n",
    "$$ b = Yd - MXd ==> E[Y] - mE[X] .$$ "
   ]
  },
  {
   "cell_type": "markdown",
   "id": "4eb76fa7",
   "metadata": {},
   "source": [
    "# Now let's see if our derivation is correct. Let's generate some random data, add some noise and see"
   ]
  },
  {
   "cell_type": "code",
   "execution_count": 1,
   "id": "a8aa2994",
   "metadata": {},
   "outputs": [
    {
     "name": "stdout",
     "output_type": "stream",
     "text": [
      "    x   y\n",
      "0   1  11\n",
      "1   2  23\n",
      "2   3  26\n",
      "3   4  38\n",
      "4   5  44\n",
      "5   6  59\n",
      "6   7  62\n",
      "7   8  67\n",
      "8   9  75\n",
      "9  10  88\n"
     ]
    },
    {
     "data": {
      "text/plain": [
       "<Axes: xlabel='x', ylabel='y'>"
      ]
     },
     "execution_count": 1,
     "metadata": {},
     "output_type": "execute_result"
    },
    {
     "data": {
      "image/png": "[encoded data removed]",
      "text/plain": [
       "<Figure size 640x480 with 1 Axes>"
      ]
     },
     "metadata": {},
     "output_type": "display_data"
    }
   ],
   "source": [
    "import pandas as pd\n",
    "import seaborn as sns\n",
    "import numpy as np\n",
    "from statistics import mean\n",
    "np.random.seed(1)\n",
    "data = pd.DataFrame({\"x\" : np.array([1,2,3,4,5,6,7,8,9,10]), \"y\" : np.array([11,23,26,38,44,59,62,67,75,88])})\n",
    "\n",
    "print(data)\n",
    "\n",
    "sns.scatterplot(data = data, x = 'x', y='y')"
   ]
  },
  {
   "cell_type": "code",
   "execution_count": 2,
   "id": "c718c227",
   "metadata": {},
   "outputs": [
    {
     "data": {
      "text/html": [
       "<div>\n",
       "<style scoped>\n",
       "    .dataframe tbody tr th:only-of-type {\n",
       "        vertical-align: middle;\n",
       "    }\n",
       "\n",
       "    .dataframe tbody tr th {\n",
       "        vertical-align: top;\n",
       "    }\n",
       "\n",
       "    .dataframe thead th {\n",
       "        text-align: right;\n",
       "    }\n",
       "</style>\n",
       "<table border=\"1\" class=\"dataframe\">\n",
       "  <thead>\n",
       "    <tr style=\"text-align: right;\">\n",
       "      <th></th>\n",
       "      <th>x</th>\n",
       "      <th>y</th>\n",
       "    </tr>\n",
       "  </thead>\n",
       "  <tbody>\n",
       "    <tr>\n",
       "      <th>0</th>\n",
       "      <td>1</td>\n",
       "      <td>43.486907</td>\n",
       "    </tr>\n",
       "    <tr>\n",
       "      <th>1</th>\n",
       "      <td>2</td>\n",
       "      <td>10.764872</td>\n",
       "    </tr>\n",
       "    <tr>\n",
       "      <th>2</th>\n",
       "      <td>3</td>\n",
       "      <td>15.436565</td>\n",
       "    </tr>\n",
       "    <tr>\n",
       "      <th>3</th>\n",
       "      <td>4</td>\n",
       "      <td>16.540628</td>\n",
       "    </tr>\n",
       "    <tr>\n",
       "      <th>4</th>\n",
       "      <td>5</td>\n",
       "      <td>61.308153</td>\n",
       "    </tr>\n",
       "    <tr>\n",
       "      <th>5</th>\n",
       "      <td>6</td>\n",
       "      <td>12.969226</td>\n",
       "    </tr>\n",
       "    <tr>\n",
       "      <th>6</th>\n",
       "      <td>7</td>\n",
       "      <td>96.896235</td>\n",
       "    </tr>\n",
       "    <tr>\n",
       "      <th>7</th>\n",
       "      <td>8</td>\n",
       "      <td>51.775862</td>\n",
       "    </tr>\n",
       "    <tr>\n",
       "      <th>8</th>\n",
       "      <td>9</td>\n",
       "      <td>81.380782</td>\n",
       "    </tr>\n",
       "    <tr>\n",
       "      <th>9</th>\n",
       "      <td>10</td>\n",
       "      <td>83.012592</td>\n",
       "    </tr>\n",
       "  </tbody>\n",
       "</table>\n",
       "</div>"
      ],
      "text/plain": [
       "    x          y\n",
       "0   1  43.486907\n",
       "1   2  10.764872\n",
       "2   3  15.436565\n",
       "3   4  16.540628\n",
       "4   5  61.308153\n",
       "5   6  12.969226\n",
       "6   7  96.896235\n",
       "7   8  51.775862\n",
       "8   9  81.380782\n",
       "9  10  83.012592"
      ]
     },
     "execution_count": 2,
     "metadata": {},
     "output_type": "execute_result"
    }
   ],
   "source": [
    "# Noisy the data \n",
    "import random\n",
    "\n",
    "noise = np.random.normal(0,20, len(data))\n",
    "\n",
    "data['y'] = data['y'] + noise\n",
    "\n",
    "data\n"
   ]
  },
  {
   "cell_type": "markdown",
   "id": "9d79cc4f",
   "metadata": {},
   "source": [
    "# Let's define our statistical quantities"
   ]
  },
  {
   "cell_type": "code",
   "execution_count": 3,
   "id": "7facfece",
   "metadata": {},
   "outputs": [],
   "source": [
    "EXY = mean(data['x']*data['y'])\n",
    "\n",
    "EXEY = mean(data['x'])* mean(data['y'])\n",
    "\n",
    "EXX = mean(data['x']**2)\n",
    "\n",
    "EXEX = mean(data['x'])**2\n",
    "\n",
    "EY = mean(data['y'])\n",
    "\n",
    "EX = mean(data['x'])\n",
    "\n",
    "m = (EXY - EXEY) / (EXX - EXEX)\n",
    "\n",
    "b = EY - (m * EX)\n"
   ]
  },
  {
   "cell_type": "markdown",
   "id": "ad37d3bb",
   "metadata": {},
   "source": [
    "# Create function for slope/intercept fit"
   ]
  },
  {
   "cell_type": "code",
   "execution_count": 4,
   "id": "e262e8f7",
   "metadata": {},
   "outputs": [],
   "source": [
    "import matplotlib.pyplot as plt\n",
    "import numpy as np\n",
    "\n",
    "def abline(slope, intercept):\n",
    "    axes = plt.gca()\n",
    "    x_vals = np.array(axes.get_xlim())\n",
    "    y_vals = intercept + slope * x_vals\n",
    "    plt.plot(x_vals, y_vals, '--')"
   ]
  },
  {
   "cell_type": "markdown",
   "id": "fe22ebc1",
   "metadata": {},
   "source": [
    "# Check our fit!"
   ]
  },
  {
   "cell_type": "code",
   "execution_count": 5,
   "id": "9628c498",
   "metadata": {},
   "outputs": [
    {
     "data": {
      "image/png": "[encoded data removed]",
      "text/plain": [
       "<Figure size 640x480 with 1 Axes>"
      ]
     },
     "metadata": {},
     "output_type": "display_data"
    }
   ],
   "source": [
    "plt.scatter(data['x'], data['y'])\n",
    "\n",
    "\n",
    "abline(m, b)   "
   ]
  }
 ],
 "metadata": {
  "kernelspec": {
   "display_name": "Python 3 (ipykernel)",
   "language": "python",
   "name": "python3"
  },
  "language_info": {
   "codemirror_mode": {
    "name": "ipython",
    "version": 3
   },
   "file_extension": ".py",
   "mimetype": "text/x-python",
   "name": "python",
   "nbconvert_exporter": "python",
   "pygments_lexer": "ipython3",
   "version": "3.11.5"
  }
 },
 "nbformat": 4,
 "nbformat_minor": 5
}
