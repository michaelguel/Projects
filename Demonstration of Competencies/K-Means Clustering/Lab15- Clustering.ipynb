{
 "cells": [
  {
   "cell_type": "markdown",
   "metadata": {},
   "source": [
    "# Lab15: Clustering World Bank Data\n",
    "\n",
    "In this lab you will be clustering World Bank observations of per capita GDP and the literacy rate of different countries.\n",
    "\n",
    "We're going to see if we can cluster countries by literacy rates and GDP.  \n",
    "\n",
    "We'll try a number of different clustering algorithms to test clustering to see how they perform."
   ]
  },
  {
   "cell_type": "code",
   "execution_count": 3,
   "metadata": {},
   "outputs": [],
   "source": [
    "import pandas as pd  # We'll do some more imports as we go along\n",
    "import numpy as np\n",
    "import seaborn as sns\n",
    "\n",
    "\n",
    "# You will have to import more modules as we go along."
   ]
  },
  {
   "cell_type": "code",
   "execution_count": 4,
   "metadata": {},
   "outputs": [],
   "source": [
    "# These are the files we are going to load initially\n",
    "fn_gdp_data = 'pcgdp_data.csv'\n",
    "fn_lit_data = 'literacy_data.csv'"
   ]
  },
  {
   "cell_type": "markdown",
   "metadata": {},
   "source": [
    "# Load in the data sets\n",
    "\n",
    "Let's load in our data sets.  **Open them as a text file.  Note how they look**.  You'll have to make some settings changes to the regular `read_csv` to get the data to be loaded correctly.\n",
    "\n",
    "For now make two data frames, one for the literacy data and one for the gdp data.\n"
   ]
  },
  {
   "cell_type": "code",
   "execution_count": 5,
   "metadata": {},
   "outputs": [
    {
     "name": "stdout",
     "output_type": "stream",
     "text": [
      "<class 'pandas.core.frame.DataFrame'>\n",
      "RangeIndex: 266 entries, 0 to 265\n",
      "Data columns (total 66 columns):\n",
      " #   Column          Non-Null Count  Dtype  \n",
      "---  ------          --------------  -----  \n",
      " 0   Country Name    266 non-null    object \n",
      " 1   Country Code    266 non-null    object \n",
      " 2   Indicator Name  266 non-null    object \n",
      " 3   Indicator Code  266 non-null    object \n",
      " 4   1960            128 non-null    float64\n",
      " 5   1961            134 non-null    float64\n",
      " 6   1962            137 non-null    float64\n",
      " 7   1963            137 non-null    float64\n",
      " 8   1964            137 non-null    float64\n",
      " 9   1965            148 non-null    float64\n",
      " 10  1966            151 non-null    float64\n",
      " 11  1967            154 non-null    float64\n",
      " 12  1968            159 non-null    float64\n",
      " 13  1969            159 non-null    float64\n",
      " 14  1970            168 non-null    float64\n",
      " 15  1971            171 non-null    float64\n",
      " 16  1972            171 non-null    float64\n",
      " 17  1973            171 non-null    float64\n",
      " 18  1974            172 non-null    float64\n",
      " 19  1975            174 non-null    float64\n",
      " 20  1976            175 non-null    float64\n",
      " 21  1977            178 non-null    float64\n",
      " 22  1978            177 non-null    float64\n",
      " 23  1979            178 non-null    float64\n",
      " 24  1980            190 non-null    float64\n",
      " 25  1981            194 non-null    float64\n",
      " 26  1982            195 non-null    float64\n",
      " 27  1983            196 non-null    float64\n",
      " 28  1984            197 non-null    float64\n",
      " 29  1985            199 non-null    float64\n",
      " 30  1986            201 non-null    float64\n",
      " 31  1987            205 non-null    float64\n",
      " 32  1988            210 non-null    float64\n",
      " 33  1989            210 non-null    float64\n",
      " 34  1990            225 non-null    float64\n",
      " 35  1991            220 non-null    float64\n",
      " 36  1992            223 non-null    float64\n",
      " 37  1993            226 non-null    float64\n",
      " 38  1994            230 non-null    float64\n",
      " 39  1995            240 non-null    float64\n",
      " 40  1996            240 non-null    float64\n",
      " 41  1997            240 non-null    float64\n",
      " 42  1998            242 non-null    float64\n",
      " 43  1999            243 non-null    float64\n",
      " 44  2000            247 non-null    float64\n",
      " 45  2001            248 non-null    float64\n",
      " 46  2002            253 non-null    float64\n",
      " 47  2003            253 non-null    float64\n",
      " 48  2004            253 non-null    float64\n",
      " 49  2005            253 non-null    float64\n",
      " 50  2006            254 non-null    float64\n",
      " 51  2007            254 non-null    float64\n",
      " 52  2008            255 non-null    float64\n",
      " 53  2009            255 non-null    float64\n",
      " 54  2010            256 non-null    float64\n",
      " 55  2011            258 non-null    float64\n",
      " 56  2012            257 non-null    float64\n",
      " 57  2013            258 non-null    float64\n",
      " 58  2014            258 non-null    float64\n",
      " 59  2015            257 non-null    float64\n",
      " 60  2016            256 non-null    float64\n",
      " 61  2017            256 non-null    float64\n",
      " 62  2018            256 non-null    float64\n",
      " 63  2019            253 non-null    float64\n",
      " 64  2020            242 non-null    float64\n",
      " 65  Unnamed: 65     0 non-null      float64\n",
      "dtypes: float64(62), object(4)\n",
      "memory usage: 137.3+ KB\n"
     ]
    }
   ],
   "source": [
    "# Load in our GDP data\n",
    "import csv\n",
    "\n",
    "pcgdp = pd.read_csv('pcgdp_data.csv',skiprows=1,header=1)\n",
    "pcgdp.info()\n",
    "\n",
    "\n"
   ]
  },
  {
   "cell_type": "code",
   "execution_count": 6,
   "metadata": {},
   "outputs": [
    {
     "data": {
      "text/html": [
       "<div>\n",
       "<style scoped>\n",
       "    .dataframe tbody tr th:only-of-type {\n",
       "        vertical-align: middle;\n",
       "    }\n",
       "\n",
       "    .dataframe tbody tr th {\n",
       "        vertical-align: top;\n",
       "    }\n",
       "\n",
       "    .dataframe thead th {\n",
       "        text-align: right;\n",
       "    }\n",
       "</style>\n",
       "<table border=\"1\" class=\"dataframe\">\n",
       "  <thead>\n",
       "    <tr style=\"text-align: right;\">\n",
       "      <th></th>\n",
       "      <th>Country Name</th>\n",
       "      <th>Country Code</th>\n",
       "      <th>Indicator Name</th>\n",
       "      <th>Indicator Code</th>\n",
       "      <th>1960</th>\n",
       "      <th>1961</th>\n",
       "      <th>1962</th>\n",
       "      <th>1963</th>\n",
       "      <th>1964</th>\n",
       "      <th>1965</th>\n",
       "      <th>...</th>\n",
       "      <th>2012</th>\n",
       "      <th>2013</th>\n",
       "      <th>2014</th>\n",
       "      <th>2015</th>\n",
       "      <th>2016</th>\n",
       "      <th>2017</th>\n",
       "      <th>2018</th>\n",
       "      <th>2019</th>\n",
       "      <th>2020</th>\n",
       "      <th>Unnamed: 65</th>\n",
       "    </tr>\n",
       "  </thead>\n",
       "  <tbody>\n",
       "    <tr>\n",
       "      <th>0</th>\n",
       "      <td>Aruba</td>\n",
       "      <td>ABW</td>\n",
       "      <td>Literacy rate, youth total (% of people ages 1...</td>\n",
       "      <td>SE.ADT.1524.LT.ZS</td>\n",
       "      <td>NaN</td>\n",
       "      <td>NaN</td>\n",
       "      <td>NaN</td>\n",
       "      <td>NaN</td>\n",
       "      <td>NaN</td>\n",
       "      <td>NaN</td>\n",
       "      <td>...</td>\n",
       "      <td>NaN</td>\n",
       "      <td>NaN</td>\n",
       "      <td>NaN</td>\n",
       "      <td>NaN</td>\n",
       "      <td>NaN</td>\n",
       "      <td>NaN</td>\n",
       "      <td>99.500000</td>\n",
       "      <td>NaN</td>\n",
       "      <td>NaN</td>\n",
       "      <td>NaN</td>\n",
       "    </tr>\n",
       "    <tr>\n",
       "      <th>1</th>\n",
       "      <td>Africa Eastern and Southern</td>\n",
       "      <td>AFE</td>\n",
       "      <td>Literacy rate, youth total (% of people ages 1...</td>\n",
       "      <td>SE.ADT.1524.LT.ZS</td>\n",
       "      <td>NaN</td>\n",
       "      <td>NaN</td>\n",
       "      <td>NaN</td>\n",
       "      <td>NaN</td>\n",
       "      <td>NaN</td>\n",
       "      <td>NaN</td>\n",
       "      <td>...</td>\n",
       "      <td>NaN</td>\n",
       "      <td>NaN</td>\n",
       "      <td>NaN</td>\n",
       "      <td>NaN</td>\n",
       "      <td>NaN</td>\n",
       "      <td>NaN</td>\n",
       "      <td>NaN</td>\n",
       "      <td>NaN</td>\n",
       "      <td>NaN</td>\n",
       "      <td>NaN</td>\n",
       "    </tr>\n",
       "    <tr>\n",
       "      <th>2</th>\n",
       "      <td>Afghanistan</td>\n",
       "      <td>AFG</td>\n",
       "      <td>Literacy rate, youth total (% of people ages 1...</td>\n",
       "      <td>SE.ADT.1524.LT.ZS</td>\n",
       "      <td>NaN</td>\n",
       "      <td>NaN</td>\n",
       "      <td>NaN</td>\n",
       "      <td>NaN</td>\n",
       "      <td>NaN</td>\n",
       "      <td>NaN</td>\n",
       "      <td>...</td>\n",
       "      <td>NaN</td>\n",
       "      <td>NaN</td>\n",
       "      <td>NaN</td>\n",
       "      <td>NaN</td>\n",
       "      <td>NaN</td>\n",
       "      <td>NaN</td>\n",
       "      <td>NaN</td>\n",
       "      <td>NaN</td>\n",
       "      <td>NaN</td>\n",
       "      <td>NaN</td>\n",
       "    </tr>\n",
       "    <tr>\n",
       "      <th>3</th>\n",
       "      <td>Africa Western and Central</td>\n",
       "      <td>AFW</td>\n",
       "      <td>Literacy rate, youth total (% of people ages 1...</td>\n",
       "      <td>SE.ADT.1524.LT.ZS</td>\n",
       "      <td>NaN</td>\n",
       "      <td>NaN</td>\n",
       "      <td>NaN</td>\n",
       "      <td>NaN</td>\n",
       "      <td>NaN</td>\n",
       "      <td>NaN</td>\n",
       "      <td>...</td>\n",
       "      <td>NaN</td>\n",
       "      <td>NaN</td>\n",
       "      <td>NaN</td>\n",
       "      <td>NaN</td>\n",
       "      <td>NaN</td>\n",
       "      <td>NaN</td>\n",
       "      <td>NaN</td>\n",
       "      <td>NaN</td>\n",
       "      <td>NaN</td>\n",
       "      <td>NaN</td>\n",
       "    </tr>\n",
       "    <tr>\n",
       "      <th>4</th>\n",
       "      <td>Angola</td>\n",
       "      <td>AGO</td>\n",
       "      <td>Literacy rate, youth total (% of people ages 1...</td>\n",
       "      <td>SE.ADT.1524.LT.ZS</td>\n",
       "      <td>NaN</td>\n",
       "      <td>NaN</td>\n",
       "      <td>NaN</td>\n",
       "      <td>NaN</td>\n",
       "      <td>NaN</td>\n",
       "      <td>NaN</td>\n",
       "      <td>...</td>\n",
       "      <td>NaN</td>\n",
       "      <td>NaN</td>\n",
       "      <td>77.431129</td>\n",
       "      <td>NaN</td>\n",
       "      <td>NaN</td>\n",
       "      <td>NaN</td>\n",
       "      <td>NaN</td>\n",
       "      <td>NaN</td>\n",
       "      <td>NaN</td>\n",
       "      <td>NaN</td>\n",
       "    </tr>\n",
       "    <tr>\n",
       "      <th>...</th>\n",
       "      <td>...</td>\n",
       "      <td>...</td>\n",
       "      <td>...</td>\n",
       "      <td>...</td>\n",
       "      <td>...</td>\n",
       "      <td>...</td>\n",
       "      <td>...</td>\n",
       "      <td>...</td>\n",
       "      <td>...</td>\n",
       "      <td>...</td>\n",
       "      <td>...</td>\n",
       "      <td>...</td>\n",
       "      <td>...</td>\n",
       "      <td>...</td>\n",
       "      <td>...</td>\n",
       "      <td>...</td>\n",
       "      <td>...</td>\n",
       "      <td>...</td>\n",
       "      <td>...</td>\n",
       "      <td>...</td>\n",
       "      <td>...</td>\n",
       "    </tr>\n",
       "    <tr>\n",
       "      <th>261</th>\n",
       "      <td>Kosovo</td>\n",
       "      <td>XKX</td>\n",
       "      <td>Literacy rate, youth total (% of people ages 1...</td>\n",
       "      <td>SE.ADT.1524.LT.ZS</td>\n",
       "      <td>NaN</td>\n",
       "      <td>NaN</td>\n",
       "      <td>NaN</td>\n",
       "      <td>NaN</td>\n",
       "      <td>NaN</td>\n",
       "      <td>NaN</td>\n",
       "      <td>...</td>\n",
       "      <td>NaN</td>\n",
       "      <td>NaN</td>\n",
       "      <td>NaN</td>\n",
       "      <td>NaN</td>\n",
       "      <td>NaN</td>\n",
       "      <td>NaN</td>\n",
       "      <td>NaN</td>\n",
       "      <td>NaN</td>\n",
       "      <td>NaN</td>\n",
       "      <td>NaN</td>\n",
       "    </tr>\n",
       "    <tr>\n",
       "      <th>262</th>\n",
       "      <td>Yemen, Rep.</td>\n",
       "      <td>YEM</td>\n",
       "      <td>Literacy rate, youth total (% of people ages 1...</td>\n",
       "      <td>SE.ADT.1524.LT.ZS</td>\n",
       "      <td>NaN</td>\n",
       "      <td>NaN</td>\n",
       "      <td>NaN</td>\n",
       "      <td>NaN</td>\n",
       "      <td>NaN</td>\n",
       "      <td>NaN</td>\n",
       "      <td>...</td>\n",
       "      <td>NaN</td>\n",
       "      <td>NaN</td>\n",
       "      <td>NaN</td>\n",
       "      <td>NaN</td>\n",
       "      <td>NaN</td>\n",
       "      <td>NaN</td>\n",
       "      <td>NaN</td>\n",
       "      <td>NaN</td>\n",
       "      <td>NaN</td>\n",
       "      <td>NaN</td>\n",
       "    </tr>\n",
       "    <tr>\n",
       "      <th>263</th>\n",
       "      <td>South Africa</td>\n",
       "      <td>ZAF</td>\n",
       "      <td>Literacy rate, youth total (% of people ages 1...</td>\n",
       "      <td>SE.ADT.1524.LT.ZS</td>\n",
       "      <td>NaN</td>\n",
       "      <td>NaN</td>\n",
       "      <td>NaN</td>\n",
       "      <td>NaN</td>\n",
       "      <td>NaN</td>\n",
       "      <td>NaN</td>\n",
       "      <td>...</td>\n",
       "      <td>98.882042</td>\n",
       "      <td>NaN</td>\n",
       "      <td>98.882278</td>\n",
       "      <td>98.95578</td>\n",
       "      <td>NaN</td>\n",
       "      <td>95.323822</td>\n",
       "      <td>NaN</td>\n",
       "      <td>98.409531</td>\n",
       "      <td>NaN</td>\n",
       "      <td>NaN</td>\n",
       "    </tr>\n",
       "    <tr>\n",
       "      <th>264</th>\n",
       "      <td>Zambia</td>\n",
       "      <td>ZMB</td>\n",
       "      <td>Literacy rate, youth total (% of people ages 1...</td>\n",
       "      <td>SE.ADT.1524.LT.ZS</td>\n",
       "      <td>NaN</td>\n",
       "      <td>NaN</td>\n",
       "      <td>NaN</td>\n",
       "      <td>NaN</td>\n",
       "      <td>NaN</td>\n",
       "      <td>NaN</td>\n",
       "      <td>...</td>\n",
       "      <td>NaN</td>\n",
       "      <td>NaN</td>\n",
       "      <td>NaN</td>\n",
       "      <td>NaN</td>\n",
       "      <td>NaN</td>\n",
       "      <td>NaN</td>\n",
       "      <td>92.091568</td>\n",
       "      <td>NaN</td>\n",
       "      <td>NaN</td>\n",
       "      <td>NaN</td>\n",
       "    </tr>\n",
       "    <tr>\n",
       "      <th>265</th>\n",
       "      <td>Zimbabwe</td>\n",
       "      <td>ZWE</td>\n",
       "      <td>Literacy rate, youth total (% of people ages 1...</td>\n",
       "      <td>SE.ADT.1524.LT.ZS</td>\n",
       "      <td>NaN</td>\n",
       "      <td>NaN</td>\n",
       "      <td>NaN</td>\n",
       "      <td>NaN</td>\n",
       "      <td>NaN</td>\n",
       "      <td>NaN</td>\n",
       "      <td>...</td>\n",
       "      <td>NaN</td>\n",
       "      <td>NaN</td>\n",
       "      <td>90.428123</td>\n",
       "      <td>NaN</td>\n",
       "      <td>NaN</td>\n",
       "      <td>NaN</td>\n",
       "      <td>NaN</td>\n",
       "      <td>NaN</td>\n",
       "      <td>NaN</td>\n",
       "      <td>NaN</td>\n",
       "    </tr>\n",
       "  </tbody>\n",
       "</table>\n",
       "<p>266 rows × 66 columns</p>\n",
       "</div>"
      ],
      "text/plain": [
       "                    Country Name Country Code  \\\n",
       "0                          Aruba          ABW   \n",
       "1    Africa Eastern and Southern          AFE   \n",
       "2                    Afghanistan          AFG   \n",
       "3     Africa Western and Central          AFW   \n",
       "4                         Angola          AGO   \n",
       "..                           ...          ...   \n",
       "261                       Kosovo          XKX   \n",
       "262                  Yemen, Rep.          YEM   \n",
       "263                 South Africa          ZAF   \n",
       "264                       Zambia          ZMB   \n",
       "265                     Zimbabwe          ZWE   \n",
       "\n",
       "                                        Indicator Name     Indicator Code  \\\n",
       "0    Literacy rate, youth total (% of people ages 1...  SE.ADT.1524.LT.ZS   \n",
       "1    Literacy rate, youth total (% of people ages 1...  SE.ADT.1524.LT.ZS   \n",
       "2    Literacy rate, youth total (% of people ages 1...  SE.ADT.1524.LT.ZS   \n",
       "3    Literacy rate, youth total (% of people ages 1...  SE.ADT.1524.LT.ZS   \n",
       "4    Literacy rate, youth total (% of people ages 1...  SE.ADT.1524.LT.ZS   \n",
       "..                                                 ...                ...   \n",
       "261  Literacy rate, youth total (% of people ages 1...  SE.ADT.1524.LT.ZS   \n",
       "262  Literacy rate, youth total (% of people ages 1...  SE.ADT.1524.LT.ZS   \n",
       "263  Literacy rate, youth total (% of people ages 1...  SE.ADT.1524.LT.ZS   \n",
       "264  Literacy rate, youth total (% of people ages 1...  SE.ADT.1524.LT.ZS   \n",
       "265  Literacy rate, youth total (% of people ages 1...  SE.ADT.1524.LT.ZS   \n",
       "\n",
       "     1960  1961  1962  1963  1964  1965  ...       2012  2013       2014  \\\n",
       "0     NaN   NaN   NaN   NaN   NaN   NaN  ...        NaN   NaN        NaN   \n",
       "1     NaN   NaN   NaN   NaN   NaN   NaN  ...        NaN   NaN        NaN   \n",
       "2     NaN   NaN   NaN   NaN   NaN   NaN  ...        NaN   NaN        NaN   \n",
       "3     NaN   NaN   NaN   NaN   NaN   NaN  ...        NaN   NaN        NaN   \n",
       "4     NaN   NaN   NaN   NaN   NaN   NaN  ...        NaN   NaN  77.431129   \n",
       "..    ...   ...   ...   ...   ...   ...  ...        ...   ...        ...   \n",
       "261   NaN   NaN   NaN   NaN   NaN   NaN  ...        NaN   NaN        NaN   \n",
       "262   NaN   NaN   NaN   NaN   NaN   NaN  ...        NaN   NaN        NaN   \n",
       "263   NaN   NaN   NaN   NaN   NaN   NaN  ...  98.882042   NaN  98.882278   \n",
       "264   NaN   NaN   NaN   NaN   NaN   NaN  ...        NaN   NaN        NaN   \n",
       "265   NaN   NaN   NaN   NaN   NaN   NaN  ...        NaN   NaN  90.428123   \n",
       "\n",
       "         2015  2016       2017       2018       2019  2020  Unnamed: 65  \n",
       "0         NaN   NaN        NaN  99.500000        NaN   NaN          NaN  \n",
       "1         NaN   NaN        NaN        NaN        NaN   NaN          NaN  \n",
       "2         NaN   NaN        NaN        NaN        NaN   NaN          NaN  \n",
       "3         NaN   NaN        NaN        NaN        NaN   NaN          NaN  \n",
       "4         NaN   NaN        NaN        NaN        NaN   NaN          NaN  \n",
       "..        ...   ...        ...        ...        ...   ...          ...  \n",
       "261       NaN   NaN        NaN        NaN        NaN   NaN          NaN  \n",
       "262       NaN   NaN        NaN        NaN        NaN   NaN          NaN  \n",
       "263  98.95578   NaN  95.323822        NaN  98.409531   NaN          NaN  \n",
       "264       NaN   NaN        NaN  92.091568        NaN   NaN          NaN  \n",
       "265       NaN   NaN        NaN        NaN        NaN   NaN          NaN  \n",
       "\n",
       "[266 rows x 66 columns]"
      ]
     },
     "execution_count": 6,
     "metadata": {},
     "output_type": "execute_result"
    }
   ],
   "source": [
    "# Load in our population data\n",
    "literacy = pd.read_csv('literacy_data.csv',skiprows=1,header=1)\n",
    "literacy"
   ]
  },
  {
   "cell_type": "markdown",
   "metadata": {},
   "source": [
    "We're interested in 2020 data only.  Merge the 2020 data into a single data frame.  You may use whatever column names you'd like, but in the end we want a data frame with three columns:\n",
    "+ Country Code (as the index)\n",
    "+ 2020 per capita GDP\n",
    "+ 2020 literacy rate"
   ]
  },
  {
   "cell_type": "code",
   "execution_count": 7,
   "metadata": {},
   "outputs": [
    {
     "data": {
      "text/html": [
       "<div>\n",
       "<style scoped>\n",
       "    .dataframe tbody tr th:only-of-type {\n",
       "        vertical-align: middle;\n",
       "    }\n",
       "\n",
       "    .dataframe tbody tr th {\n",
       "        vertical-align: top;\n",
       "    }\n",
       "\n",
       "    .dataframe thead th {\n",
       "        text-align: right;\n",
       "    }\n",
       "</style>\n",
       "<table border=\"1\" class=\"dataframe\">\n",
       "  <thead>\n",
       "    <tr style=\"text-align: right;\">\n",
       "      <th></th>\n",
       "      <th>2020 PC GDP</th>\n",
       "      <th>2020 Literacy</th>\n",
       "    </tr>\n",
       "    <tr>\n",
       "      <th>Country Code</th>\n",
       "      <th></th>\n",
       "      <th></th>\n",
       "    </tr>\n",
       "  </thead>\n",
       "  <tbody>\n",
       "    <tr>\n",
       "      <th>ABW</th>\n",
       "      <td>NaN</td>\n",
       "      <td>NaN</td>\n",
       "    </tr>\n",
       "    <tr>\n",
       "      <th>AFE</th>\n",
       "      <td>1359.618224</td>\n",
       "      <td>NaN</td>\n",
       "    </tr>\n",
       "    <tr>\n",
       "      <th>AFG</th>\n",
       "      <td>516.747871</td>\n",
       "      <td>NaN</td>\n",
       "    </tr>\n",
       "    <tr>\n",
       "      <th>AFW</th>\n",
       "      <td>1710.073363</td>\n",
       "      <td>NaN</td>\n",
       "    </tr>\n",
       "    <tr>\n",
       "      <th>AGO</th>\n",
       "      <td>1776.166868</td>\n",
       "      <td>NaN</td>\n",
       "    </tr>\n",
       "  </tbody>\n",
       "</table>\n",
       "</div>"
      ],
      "text/plain": [
       "              2020 PC GDP  2020 Literacy\n",
       "Country Code                            \n",
       "ABW                   NaN            NaN\n",
       "AFE           1359.618224            NaN\n",
       "AFG            516.747871            NaN\n",
       "AFW           1710.073363            NaN\n",
       "AGO           1776.166868            NaN"
      ]
     },
     "execution_count": 7,
     "metadata": {},
     "output_type": "execute_result"
    }
   ],
   "source": [
    "# Let's merge these two data frames together\n",
    "\n",
    "#together = pd.merge(pcgdp,literacy)\n",
    "\n",
    "#together\n",
    "\n",
    "df_merged = pd.DataFrame()\n",
    "\n",
    "df_merged['Country Code'] = literacy['Country Code']\n",
    "\n",
    "df_merged['2020 PC GDP'] = pcgdp['2020']\n",
    "\n",
    "df_merged['2020 Literacy'] = literacy['2020']\n",
    "\n",
    "df_merged.set_index('Country Code', inplace=True)\n",
    "\n",
    "df_merged.head()\n",
    "\n",
    "\n",
    "#together = literacy.merge(pcgdp,how='inner',on='Country Code')\n",
    "\n",
    "#type(together)\n",
    "\n",
    "#or col in together.columns:\n",
    "    #print(col)\n",
    "#new = together[['Country Code','2020_x','2020_y']]\n",
    "\n"
   ]
  },
  {
   "cell_type": "code",
   "execution_count": 8,
   "metadata": {},
   "outputs": [
    {
     "data": {
      "text/plain": [
       "2020 PC GDP       24\n",
       "2020 Literacy    214\n",
       "dtype: int64"
      ]
     },
     "execution_count": 8,
     "metadata": {},
     "output_type": "execute_result"
    }
   ],
   "source": [
    "df_merged.isna().sum(axis=0)"
   ]
  },
  {
   "cell_type": "code",
   "execution_count": null,
   "metadata": {},
   "outputs": [],
   "source": []
  },
  {
   "cell_type": "markdown",
   "metadata": {},
   "source": [
    "## Let's subset the data\n",
    "\n",
    "We only want countries that have data for both 2020 per capita and 2020 literacy.  So let's exclude any rows where either data column is a nan.\n",
    "\n",
    "There are many ways of doing this.  One way is to use Boolean vector operations to find just those rows that don't have NaN values in them for either the per capita GDP or literacy rate.\n",
    "\n",
    "For example, if your data frame was called `df_merged` you can use this code (provided your column labels match):\n",
    "    \n",
    "    good_rows = ~ (df_merged['2020 PC GDP'].isna() | df_merged['2020 Literacy'].isna())\n",
    "    df_merged = df_merged[good_rows]\n",
    "\n",
    "The | operator means \"logical OR\" and the ~ operator means \"negate\" or flip trues to falses and vise versa."
   ]
  },
  {
   "cell_type": "code",
   "execution_count": 9,
   "metadata": {},
   "outputs": [
    {
     "name": "stdout",
     "output_type": "stream",
     "text": [
      "<class 'pandas.core.frame.DataFrame'>\n",
      "Index: 52 entries, ARB to WLD\n",
      "Data columns (total 2 columns):\n",
      " #   Column         Non-Null Count  Dtype  \n",
      "---  ------         --------------  -----  \n",
      " 0   2020 PC GDP    52 non-null     float64\n",
      " 1   2020 Literacy  52 non-null     float64\n",
      "dtypes: float64(2)\n",
      "memory usage: 1.2+ KB\n"
     ]
    }
   ],
   "source": [
    "#goal is to get rid of rows where gdp or literacy is missing for 2020\n",
    "\n",
    "# gives the total where both are zero\n",
    "np.sum(df_merged.isna().sum(axis=1) == 0)\n",
    "\n",
    "# gives us true and df where both are zero\n",
    "df_merged.isna().sum(axis=1) == 0\n",
    "\n",
    "# set df equal to variable \n",
    "has_both = df_merged.isna().sum(axis=1) == 0\n",
    "\n",
    "# set to df to get rid of other data\n",
    "df_merged = df_merged[has_both]\n",
    "\n",
    "df_merged.info()\n"
   ]
  },
  {
   "cell_type": "markdown",
   "metadata": {},
   "source": [
    "## Let's plot the data\n",
    "\n",
    "Let's do a scatter plot of our points to see what they look like.  We want the X axis to be the literacy in 2020 and the Y axis to be the GDP per capita in 2020."
   ]
  },
  {
   "cell_type": "code",
   "execution_count": 10,
   "metadata": {},
   "outputs": [
    {
     "data": {
      "image/png": "[encoded data removed]",
      "text/plain": [
       "<Figure size 432x288 with 1 Axes>"
      ]
     },
     "metadata": {
      "needs_background": "light"
     },
     "output_type": "display_data"
    }
   ],
   "source": [
    "ax = sns.scatterplot(data=df_merged,\n",
    "    y='2020 PC GDP', x='2020 Literacy'\n",
    ")\n",
    "\n",
    "ax.set_xlabel('Literacy 2020')\n",
    "ax.set_ylabel('PC GDP 2020')\n",
    "ax.set_title('PC GDP vs Literacy (2020)');"
   ]
  },
  {
   "cell_type": "markdown",
   "metadata": {},
   "source": [
    "## Let's transform the data\n",
    "\n",
    "Looking at the scatter plot you should see some clusters that might be identifiable.  But you should also take a look at the individual attributes themselves.  Look at the large range on GDP compared to literacy.  One is somewhere between 0 and 100 and the other 0 to 25k.  If we were to use raw values here, clearly the GDP would be the determining factor for clustering.\n",
    "\n",
    "We need to transform our data to make sure it is scaled correctly for clustering.  There are a number of different ways to do this.  Today we are going to use a simple transformation called the [StandardScalar](https://scikit-learn.org/stable/modules/generated/sklearn.preprocessing.StandardScaler.html#sklearn.preprocessing.StandardScaler) that is part of SciKit Learn's preprocessing package.    Follow the example in the linked documentation to standardize the data we have.  We will be operating on this transformed data for our clustering analysis.\n",
    "\n",
    "Make a second scatterplot of this transformed data."
   ]
  },
  {
   "cell_type": "code",
   "execution_count": 11,
   "metadata": {},
   "outputs": [
    {
     "data": {
      "text/plain": [
       "numpy.ndarray"
      ]
     },
     "execution_count": 11,
     "metadata": {},
     "output_type": "execute_result"
    }
   ],
   "source": [
    "# Use StandardScalar to transform our data\n",
    "from sklearn.preprocessing import StandardScaler\n",
    "\n",
    "scaler = StandardScaler()\n",
    "\n",
    "scaler.fit(df_merged);\n",
    "\n",
    "transformed = scaler.transform(df_merged)\n",
    "\n",
    "type(transformed)"
   ]
  },
  {
   "cell_type": "code",
   "execution_count": 12,
   "metadata": {},
   "outputs": [
    {
     "data": {
      "image/png": "[encoded data removed]",
      "text/plain": [
       "<Figure size 432x288 with 1 Axes>"
      ]
     },
     "metadata": {
      "needs_background": "light"
     },
     "output_type": "display_data"
    }
   ],
   "source": [
    "# Make a scatterplot of the transformed data\n",
    "ax = sns.scatterplot(\n",
    "    x=transformed[:,1] , y=transformed[:,0]\n",
    ")\n",
    "\n",
    "ax.set_xlabel('Literacy 2020')\n",
    "ax.set_ylabel('PC GDP 2020')\n",
    "ax.set_title('PC GDP vs Literacy (2020)');"
   ]
  },
  {
   "cell_type": "markdown",
   "metadata": {},
   "source": [
    "## Clustering our transformed data\n",
    "\n",
    "Now that we've transformed (standardized) our data, we can go about trying to cluster.  We will use each of the three methods we've learned about to accomplish this.\n",
    "\n",
    "There is no \"best\" way to cluster data.  It's an art and which method we use depends on the types of questions we are going to be asking.\n",
    "\n",
    "Here we're just going to use all the methods to demonstrate how they differ in use."
   ]
  },
  {
   "cell_type": "markdown",
   "metadata": {},
   "source": [
    "### K-Means\n",
    "\n",
    "I would like you to run a K-Means clustering analysis.\n",
    "\n",
    "Assay over K of 2 to 8 inclusive.  You may use the default settings in scikit learn for KMeans.\n",
    "\n",
    "I want you to produce a SSE plot that shows how SEE changes as the value of K increases.  This means you will have to collect the final SEE for each K we use. (It's the attribute inertia_ which is available after you call fit.)  \n",
    "\n",
    "Then I would like you to pick what looks like (on the diagnostic plot) a reasonable K.\n",
    "\n",
    "Make a scatterplot of the transformed data colored by the cluster label.  (Once you run fit the attribute labels_ becomes available that will give you the label number.  You can pass this vector as a hue argument to scatterplot.)\n",
    "\n",
    "I'd also like you to draw the centroid centers as well, so collect that data for your \"best K\" by collecting its cluster_centers_ attribute that becomes available after you call `fit`.\n"
   ]
  },
  {
   "cell_type": "code",
   "execution_count": 13,
   "metadata": {},
   "outputs": [
    {
     "data": {
      "image/png": "[encoded data removed]",
      "text/plain": [
       "<Figure size 432x288 with 1 Axes>"
      ]
     },
     "metadata": {
      "needs_background": "light"
     },
     "output_type": "display_data"
    }
   ],
   "source": [
    "# Assay over K and plot the best SSE as a function of K to find which K to use\n",
    "from sklearn.cluster import KMeans\n",
    "\n",
    "best_sse = {}\n",
    "km_labels = {}\n",
    "centroids = {}\n",
    "\n",
    "for k in range(2,9):\n",
    "    cluster_km = KMeans(n_clusters=k)\n",
    "    cluster_km.fit(transformed) # does the clustering\n",
    "    best_sse[k] = cluster_km.inertia_\n",
    "    km_labels[k] = cluster_km.labels_\n",
    "    centroids[k] = cluster_km.cluster_centers_\n",
    "\n",
    "ax = sns.lineplot(x=best_sse.keys(), y=best_sse.values())\n",
    "ax.set_xlabel('x')\n",
    "ax.set_ylabel('Best SSE');\n"
   ]
  },
  {
   "cell_type": "code",
   "execution_count": 14,
   "metadata": {},
   "outputs": [
    {
     "data": {
      "text/plain": [
       "Text(0, 0.5, 'Best SSE')"
      ]
     },
     "execution_count": 14,
     "metadata": {},
     "output_type": "execute_result"
    },
    {
     "data": {
      "image/png": "[encoded data removed]",
      "text/plain": [
       "<Figure size 432x288 with 1 Axes>"
      ]
     },
     "metadata": {
      "needs_background": "light"
     },
     "output_type": "display_data"
    }
   ],
   "source": [
    "# Using the \"best\" K, plot the transformed data with the \n",
    "# hue being the label color (from the labels_ attribute of the model you fit)\n",
    "# You can plot the centroids by using the values in cluster_centers_ \n",
    "\n",
    "ax = sns.scatterplot(x=transformed[:,1], y=transformed[:,0],hue=km_labels[5])\n",
    "\n",
    "ax = sns.scatterplot(x=centroids[5][:,1], y=centroids[5][:,0], markers='*', color='g', s=400)\n",
    "ax.set_xlabel('x')\n",
    "ax.set_ylabel('Best SSE')\n"
   ]
  },
  {
   "cell_type": "markdown",
   "metadata": {},
   "source": [
    "### Agglomerative clustering\n",
    "\n",
    "Agglomerative clustering builds a tree (dendogram) by successively combining points and groups of points together until a single tree/cluster is produced.  We an then examine this dendogram to figure out how many clusters we might use.\n",
    "\n",
    "First follow the instructions for Agglomerative Clustering you'll find on the [documentation page](https://scikit-learn.org/stable/modules/generated/sklearn.cluster.AgglomerativeClustering.html) for it.  We will set `n_clusters` after we take a look at the dendogram produced, so set it to `None` for now.  Also set `distance_threshold` to 0.\n",
    "\n",
    "Make sure you are operating on the transformed data.\n",
    "\n",
    "Import `plot_dendogram` from the `demo_tools` module included with today's exercise.  Simply pass in the AgglomerativeClustering model you fit to plot the denodgram.\n",
    "\n",
    "Which `linkage` method should you use?  What should the `distance_threshold` be in your final clustering?  Use the denodgram and adjust the linkage setting to find one that looks like it works best for this data.  (For me `single` linkage worked best.  But you do have to look at the dendogram to find a good `distance_threshold` for which ever method you choose.)\n",
    "\n"
   ]
  },
  {
   "cell_type": "code",
   "execution_count": 16,
   "metadata": {},
   "outputs": [
    {
     "data": {
      "image/png": "[encoded data removed]",
      "text/plain": [
       "<Figure size 432x288 with 3 Axes>"
      ]
     },
     "metadata": {
      "needs_background": "light"
     },
     "output_type": "display_data"
    }
   ],
   "source": [
    "# Create a full dendogram for the clusters and plot it\n",
    "\n",
    "from sklearn.cluster import AgglomerativeClustering\n",
    "from demo_tools import plot_dendogram\n",
    "import matplotlib.pyplot as plt\n",
    "\n",
    "for ndx, method in enumerate(['single','average','complete']):\n",
    "    plt.subplot(1,3,ndx+1)\n",
    "    cluster_ag = AgglomerativeClustering(\n",
    "        n_clusters=None,\n",
    "        distance_threshold=0,\n",
    "        linkage=method\n",
    "    )\n",
    "    cluster_ag.fit(transformed)\n",
    "    plot_dendogram(cluster_ag)\n",
    "    plt.gca().set_title(method)"
   ]
  },
  {
   "cell_type": "markdown",
   "metadata": {},
   "source": [
    "From your results above, you should see some natural places to cut our dendogram by examining either how many clusters we expect or setting a threshold distance, or how far away clusters should be.  Using which ever method you'd like, let's create our final agglomerative clustering.\n",
    "\n",
    "Make a scatter plot of the transformed data and use the labels found from the clustering to color the points."
   ]
  },
  {
   "cell_type": "code",
   "execution_count": 18,
   "metadata": {},
   "outputs": [
    {
     "data": {
      "image/png": "[encoded data removed]",
      "text/plain": [
       "<Figure size 432x288 with 1 Axes>"
      ]
     },
     "metadata": {
      "needs_background": "light"
     },
     "output_type": "display_data"
    }
   ],
   "source": [
    "# Plot the \"good\" clustering you found\n",
    "# as a scatterplot of the transformed data\n",
    "# with the hue being based on the labels_ found\n",
    "\n",
    "cluster_ag = AgglomerativeClustering(\n",
    "    n_clusters=None,\n",
    "    distance_threshold=0.5,\n",
    "    linkage='single',\n",
    "\n",
    ")\n",
    "cluster_ag.fit(transformed)\n",
    "ax = sns.scatterplot(y=transformed[:,0], x=transformed[:,1],hue = cluster_ag.labels_)\n"
   ]
  },
  {
   "cell_type": "markdown",
   "metadata": {},
   "source": [
    "## DBSCAN\n",
    "\n",
    "Our last clustering will be to use DBSCAN to perform the clustering.  Just as the previous two clustering algorithms required us to explore our results to find the a \"good\" set of parameter(s) for the clustering, we need to take a look at `eps` and `min_samples` to find good values for the clustering.  You can read the [documentation](https://scikit-learn.org/stable/modules/generated/sklearn.cluster.DBSCAN.html) for examples of how to use it.\n",
    "\n",
    "But before we begin, let's take a look at all pairwise distances.  This will help us pick an `eps`.  Read the directions for `pairwise-distances` from the sklearn.metrics module.  Plot these distances using a seaborn `displot` with `kde=True` to see the curve.. You may need to call `flatten()` on the distance matrix you receive from `pairwise-distances` to get it to plot.\n",
    "\n",
    "As for `min_samples`?  What is the smallest cluster size you'll allow?  This is up to you.  Points that don't belong to any cluster are considered outliers.\n",
    "\n",
    "The purpose of the plot is to find a good `eps`, so we are looking for small values that are frequent.  These values are usually found near 0.  Examine the histogram and find a pairwise distance cut off.  It should be at a point in the graph where pairwise distances are separable (the valley between peaks in the plot). You may need to adjust the number of bins or filter your data to include only smaller values to get the resolution necessary for this task.\n",
    "\n"
   ]
  },
  {
   "cell_type": "markdown",
   "metadata": {},
   "source": []
  },
  {
   "cell_type": "code",
   "execution_count": 19,
   "metadata": {},
   "outputs": [
    {
     "data": {
      "text/plain": [
       "<seaborn.axisgrid.FacetGrid at 0x16fba2970>"
      ]
     },
     "execution_count": 19,
     "metadata": {},
     "output_type": "execute_result"
    },
    {
     "data": {
      "image/png": "[encoded data removed]",
      "text/plain": [
       "<Figure size 360x360 with 1 Axes>"
      ]
     },
     "metadata": {
      "needs_background": "light"
     },
     "output_type": "display_data"
    }
   ],
   "source": [
    "# Calculate all pairwise distances\n",
    "# and make a displot to find a good value of eps\n",
    "from sklearn.metrics import pairwise_distances\n",
    "pdist = pairwise_distances(transformed)\n",
    "sns.displot(pdist[pdist < 1].flatten(),bins = 50,kde=True)"
   ]
  },
  {
   "cell_type": "code",
   "execution_count": 21,
   "metadata": {},
   "outputs": [
    {
     "data": {
      "image/png": "[encoded data removed]",
      "text/plain": [
       "<Figure size 432x288 with 1 Axes>"
      ]
     },
     "metadata": {
      "needs_background": "light"
     },
     "output_type": "display_data"
    }
   ],
   "source": [
    "# Cluster using DBSCAN with the eps and min_samples you've decided upon\n",
    "# Then make a scatterplot of the transformed data labeled by the labelings\n",
    "# DBSCAN found\n",
    "from sklearn.cluster import DBSCAN\n",
    "\n",
    "cluster_db = DBSCAN(eps = 0.4,min_samples=3)\n",
    "\n",
    "cluster_db.fit(transformed)\n",
    "\n",
    "ax = sns.scatterplot(y=transformed[:,0],x=transformed[:,1], hue=cluster_db.labels_)\n"
   ]
  }
 ],
 "metadata": {
  "interpreter": {
   "hash": "7d87b78273520671e160d525fe6b224904c24d013cc3fb4c734a3a45961893a0"
  },
  "kernelspec": {
   "display_name": "Python 3.9.7 ('cse801')",
   "language": "python",
   "name": "python3"
  },
  "language_info": {
   "codemirror_mode": {
    "name": "ipython",
    "version": 3
   },
   "file_extension": ".py",
   "mimetype": "text/x-python",
   "name": "python",
   "nbconvert_exporter": "python",
   "pygments_lexer": "ipython3",
   "version": "3.9.10"
  },
  "orig_nbformat": 4
 },
 "nbformat": 4,
 "nbformat_minor": 2
}
