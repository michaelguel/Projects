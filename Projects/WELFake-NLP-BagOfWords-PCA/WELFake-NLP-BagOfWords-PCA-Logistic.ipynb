{
 "cells": [
  {
   "cell_type": "code",
   "execution_count": 2,
   "id": "2a152d3c",
   "metadata": {},
   "outputs": [
    {
     "name": "stderr",
     "output_type": "stream",
     "text": [
      "[nltk_data] Downloading package stopwords to\n",
      "[nltk_data]     /Users/michaelguel/nltk_data...\n",
      "[nltk_data]   Package stopwords is already up-to-date!\n",
      "[nltk_data] Downloading package wordnet to\n",
      "[nltk_data]     /Users/michaelguel/nltk_data...\n",
      "[nltk_data]   Package wordnet is already up-to-date!\n",
      "[nltk_data] Downloading package omw-1.4 to\n",
      "[nltk_data]     /Users/michaelguel/nltk_data...\n",
      "[nltk_data]   Package omw-1.4 is already up-to-date!\n"
     ]
    },
    {
     "data": {
      "text/plain": [
       "True"
      ]
     },
     "execution_count": 2,
     "metadata": {},
     "output_type": "execute_result"
    }
   ],
   "source": [
    "import pandas as pd\n",
    "import gensim\n",
    "from gensim.utils import simple_preprocess\n",
    "from gensim.parsing.preprocessing import STOPWORDS\n",
    "from nltk.stem import WordNetLemmatizer, SnowballStemmer\n",
    "from nltk.stem.porter import *\n",
    "import numpy as np\n",
    "np.random.seed(891)\n",
    "from nltk.corpus import stopwords\n",
    "import re\n",
    "import scipy.sparse\n",
    "import nltk\n",
    "from sklearn.model_selection import train_test_split\n",
    "from sklearn.linear_model import LogisticRegression\n",
    "from sklearn.metrics import accuracy_score\n",
    "from sklearn.metrics import precision_score\n",
    "from sklearn.metrics import recall_score\n",
    "from sklearn.decomposition import PCA\n",
    "nltk.download('stopwords')\n",
    "nltk.download('wordnet')\n",
    "nltk.download('omw-1.4')\n"
   ]
  },
  {
   "cell_type": "code",
   "execution_count": 3,
   "id": "150105f0",
   "metadata": {},
   "outputs": [
    {
     "data": {
      "text/plain": [
       "(71537, 4)"
      ]
     },
     "execution_count": 3,
     "metadata": {},
     "output_type": "execute_result"
    }
   ],
   "source": [
    "data = pd.read_csv('WELFake_Dataset.csv', sep= ',')\n",
    "\n",
    "\n",
    "use = data\n",
    "\n",
    "#print(use1.isna().sum())\n",
    "\n",
    "#use = use1.dropna()\n",
    "\n",
    "#use.head()\n",
    "\n",
    "#print(use1.head())\n",
    "\n",
    "#print(use1.shape)\n",
    "\n",
    "\n",
    "#use = use.replace('',np.nan)\n",
    "\n",
    "#print(use.shape)\n",
    "\n",
    "\n",
    "use = use.dropna()\n",
    "\n",
    "use.isnull().sum()\n",
    "\n",
    "use.shape\n",
    "\n",
    "\n",
    "\n",
    "\n",
    "#print(tracks.shape)"
   ]
  },
  {
   "cell_type": "code",
   "execution_count": 4,
   "id": "d3f8190a",
   "metadata": {},
   "outputs": [],
   "source": [
    "stop = set(stopwords.words('english'))\n",
    "#Create a stemmer\n",
    "stemmer = SnowballStemmer(language = 'english')\n",
    "#Create a lemmatizer\n",
    "lemma = WordNetLemmatizer()\n",
    "#Stem and lemmatize a term\n",
    "def lemmatize_stemming(term):\n",
    "    term = lemma.lemmatize(term, pos='v') # Lemmatize\n",
    "    term = stemmer.stem(term) #Stem\n",
    "    return term\n",
    "\n",
    "def preprocess(text):\n",
    "    result = []\n",
    "    for token in gensim.utils.simple_preprocess(text): #Deaccents and splits terms\n",
    "        token = re.sub(\"\\W\",\"\",token) #Remove special characters, punctuation, spaces\n",
    "\n",
    "        token = token.lower() #lowercase string\n",
    "\n",
    "        if token in stop: # Stopword removal: Remove \"token not in stop\" to keep stopwords\n",
    "            token = \"\"\n",
    "\n",
    "        if token.startswith(\"http\"): #entity recognition of URLs.\n",
    "            token = \"URL_\"\n",
    "\n",
    "        if len(token) > 2:\n",
    "            result.append(token)\n",
    "    return result\n",
    "# These will be applicable because the corpus contains special characters, punctuation, spaces, urls and accent\n",
    "# terms"
   ]
  },
  {
   "cell_type": "code",
   "execution_count": 5,
   "id": "7ca3f884",
   "metadata": {},
   "outputs": [
    {
     "data": {
      "text/plain": [
       "0    [comment, expected, barack, obama, members, fy...\n",
       "2    [demonstrators, gathered, last, night, exercis...\n",
       "3    [dozen, politically, active, pastors, came, pr...\n",
       "4    [sarmat, missile, dubbed, satan, replace, flie...\n",
       "5    [say, one, time, someone, sued, southern, pove...\n",
       "Name: text, dtype: object"
      ]
     },
     "execution_count": 5,
     "metadata": {},
     "output_type": "execute_result"
    }
   ],
   "source": [
    "processed_docs = use['text'].map(preprocess)\n",
    "\n",
    "processed_docs.head()"
   ]
  },
  {
   "cell_type": "code",
   "execution_count": 6,
   "id": "02bd11f7",
   "metadata": {},
   "outputs": [],
   "source": [
    "b = processed_docs\n",
    "\n",
    "c = []\n",
    "\n",
    "for x in b:\n",
    "    c.append(len(x))\n",
    "\n",
    "\n",
    "c = pd.DataFrame(c).reset_index(drop=True)\n",
    "\n",
    "c = c.set_axis(['A'], axis='columns', copy=False)\n",
    "\n",
    "d = c['A']\n",
    "\n"
   ]
  },
  {
   "cell_type": "code",
   "execution_count": 7,
   "id": "26464a9e",
   "metadata": {},
   "outputs": [
    {
     "name": "stdout",
     "output_type": "stream",
     "text": [
      "(71537, 4886)\n"
     ]
    }
   ],
   "source": [
    "# Create a dictionary – word and its frequency in all documents\n",
    "dictionary = gensim.corpora.Dictionary(processed_docs)\n",
    "# Filter out infrequent terms appearing less than N times (no_below=N),\n",
    "# terms appearing in more than 50% of documents (no_above=0.5), and keep\n",
    "# only the top 100,000 terms (keep_n=100000)\n",
    "dictionary.filter_extremes(no_below=500, no_above=0.5, keep_n=100000)\n",
    "# Convert dictionary to document – bag of words matrix\n",
    "bow_corpus = [dictionary.doc2bow(doc) for doc in processed_docs] #list of lists\n",
    "#convert the bag of words list of lists to a sparse matrix\n",
    "term_doc_matrix = gensim.matutils.corpus2csc(bow_corpus)\n",
    "doc_term_matrix = term_doc_matrix.transpose()\n",
    "print(doc_term_matrix.shape)"
   ]
  },
  {
   "cell_type": "code",
   "execution_count": 8,
   "id": "9da44865",
   "metadata": {},
   "outputs": [
    {
     "data": {
      "text/html": [
       "<div>\n",
       "<style scoped>\n",
       "    .dataframe tbody tr th:only-of-type {\n",
       "        vertical-align: middle;\n",
       "    }\n",
       "\n",
       "    .dataframe tbody tr th {\n",
       "        vertical-align: top;\n",
       "    }\n",
       "\n",
       "    .dataframe thead th {\n",
       "        text-align: right;\n",
       "    }\n",
       "</style>\n",
       "<table border=\"1\" class=\"dataframe\">\n",
       "  <thead>\n",
       "    <tr style=\"text-align: right;\">\n",
       "      <th></th>\n",
       "      <th>accountable</th>\n",
       "      <th>actually</th>\n",
       "      <th>aired</th>\n",
       "      <th>allegedly</th>\n",
       "      <th>alone</th>\n",
       "      <th>already</th>\n",
       "      <th>america</th>\n",
       "      <th>american</th>\n",
       "      <th>another</th>\n",
       "      <th>anyway</th>\n",
       "      <th>...</th>\n",
       "      <th>mistakes</th>\n",
       "      <th>aligned</th>\n",
       "      <th>loving</th>\n",
       "      <th>refuge</th>\n",
       "      <th>jihadists</th>\n",
       "      <th>asserted</th>\n",
       "      <th>participants</th>\n",
       "      <th>prosecuted</th>\n",
       "      <th>awards</th>\n",
       "      <th>beauty</th>\n",
       "    </tr>\n",
       "  </thead>\n",
       "  <tbody>\n",
       "    <tr>\n",
       "      <th>0</th>\n",
       "      <td>1</td>\n",
       "      <td>1</td>\n",
       "      <td>1</td>\n",
       "      <td>1</td>\n",
       "      <td>1</td>\n",
       "      <td>3</td>\n",
       "      <td>1</td>\n",
       "      <td>2</td>\n",
       "      <td>1</td>\n",
       "      <td>2</td>\n",
       "      <td>...</td>\n",
       "      <td>0</td>\n",
       "      <td>0</td>\n",
       "      <td>0</td>\n",
       "      <td>0</td>\n",
       "      <td>0</td>\n",
       "      <td>0</td>\n",
       "      <td>0</td>\n",
       "      <td>0</td>\n",
       "      <td>0</td>\n",
       "      <td>0</td>\n",
       "    </tr>\n",
       "    <tr>\n",
       "      <th>1</th>\n",
       "      <td>0</td>\n",
       "      <td>0</td>\n",
       "      <td>0</td>\n",
       "      <td>0</td>\n",
       "      <td>0</td>\n",
       "      <td>0</td>\n",
       "      <td>0</td>\n",
       "      <td>0</td>\n",
       "      <td>0</td>\n",
       "      <td>0</td>\n",
       "      <td>...</td>\n",
       "      <td>0</td>\n",
       "      <td>0</td>\n",
       "      <td>0</td>\n",
       "      <td>0</td>\n",
       "      <td>0</td>\n",
       "      <td>0</td>\n",
       "      <td>0</td>\n",
       "      <td>0</td>\n",
       "      <td>0</td>\n",
       "      <td>0</td>\n",
       "    </tr>\n",
       "    <tr>\n",
       "      <th>2</th>\n",
       "      <td>0</td>\n",
       "      <td>0</td>\n",
       "      <td>0</td>\n",
       "      <td>0</td>\n",
       "      <td>0</td>\n",
       "      <td>0</td>\n",
       "      <td>0</td>\n",
       "      <td>2</td>\n",
       "      <td>2</td>\n",
       "      <td>0</td>\n",
       "      <td>...</td>\n",
       "      <td>0</td>\n",
       "      <td>0</td>\n",
       "      <td>0</td>\n",
       "      <td>0</td>\n",
       "      <td>0</td>\n",
       "      <td>0</td>\n",
       "      <td>0</td>\n",
       "      <td>0</td>\n",
       "      <td>0</td>\n",
       "      <td>0</td>\n",
       "    </tr>\n",
       "    <tr>\n",
       "      <th>3</th>\n",
       "      <td>0</td>\n",
       "      <td>0</td>\n",
       "      <td>0</td>\n",
       "      <td>0</td>\n",
       "      <td>0</td>\n",
       "      <td>0</td>\n",
       "      <td>0</td>\n",
       "      <td>0</td>\n",
       "      <td>0</td>\n",
       "      <td>0</td>\n",
       "      <td>...</td>\n",
       "      <td>0</td>\n",
       "      <td>0</td>\n",
       "      <td>0</td>\n",
       "      <td>0</td>\n",
       "      <td>0</td>\n",
       "      <td>0</td>\n",
       "      <td>0</td>\n",
       "      <td>0</td>\n",
       "      <td>0</td>\n",
       "      <td>0</td>\n",
       "    </tr>\n",
       "    <tr>\n",
       "      <th>4</th>\n",
       "      <td>0</td>\n",
       "      <td>0</td>\n",
       "      <td>0</td>\n",
       "      <td>0</td>\n",
       "      <td>0</td>\n",
       "      <td>0</td>\n",
       "      <td>0</td>\n",
       "      <td>0</td>\n",
       "      <td>0</td>\n",
       "      <td>0</td>\n",
       "      <td>...</td>\n",
       "      <td>0</td>\n",
       "      <td>0</td>\n",
       "      <td>0</td>\n",
       "      <td>0</td>\n",
       "      <td>0</td>\n",
       "      <td>0</td>\n",
       "      <td>0</td>\n",
       "      <td>0</td>\n",
       "      <td>0</td>\n",
       "      <td>0</td>\n",
       "    </tr>\n",
       "  </tbody>\n",
       "</table>\n",
       "<p>5 rows × 4886 columns</p>\n",
       "</div>"
      ],
      "text/plain": [
       "   accountable  actually  aired  allegedly  alone  already  america  american  \\\n",
       "0            1         1      1          1      1        3        1         2   \n",
       "1            0         0      0          0      0        0        0         0   \n",
       "2            0         0      0          0      0        0        0         2   \n",
       "3            0         0      0          0      0        0        0         0   \n",
       "4            0         0      0          0      0        0        0         0   \n",
       "\n",
       "   another  anyway  ...  mistakes  aligned  loving  refuge  jihadists  \\\n",
       "0        1       2  ...         0        0       0       0          0   \n",
       "1        0       0  ...         0        0       0       0          0   \n",
       "2        2       0  ...         0        0       0       0          0   \n",
       "3        0       0  ...         0        0       0       0          0   \n",
       "4        0       0  ...         0        0       0       0          0   \n",
       "\n",
       "   asserted  participants  prosecuted  awards  beauty  \n",
       "0         0             0           0       0       0  \n",
       "1         0             0           0       0       0  \n",
       "2         0             0           0       0       0  \n",
       "3         0             0           0       0       0  \n",
       "4         0             0           0       0       0  \n",
       "\n",
       "[5 rows x 4886 columns]"
      ]
     },
     "execution_count": 8,
     "metadata": {},
     "output_type": "execute_result"
    }
   ],
   "source": [
    "df = pd.DataFrame(doc_term_matrix.toarray().astype('int32'),columns=dictionary.values())\n",
    "\n",
    "df.head()"
   ]
  },
  {
   "cell_type": "code",
   "execution_count": 35,
   "id": "92c985a6",
   "metadata": {},
   "outputs": [
    {
     "name": "stdout",
     "output_type": "stream",
     "text": [
      "(71537, 29690)\n"
     ]
    }
   ],
   "source": [
    "processed_docs2 = use['title'].map(preprocess)\n",
    "\n",
    "processed_docs2.head()\n",
    "# Create a dictionary – word and its frequency in all documents\n",
    "dictionary2 = gensim.corpora.Dictionary(processed_docs2)\n",
    "# Filter out infrequent terms appearing less than N times (no_below=N),\n",
    "# terms appearing in more than 50% of documents (no_above=0.5), and keep\n",
    "# only the top 100,000 terms (keep_n=100000)\n",
    "dictionary2.filter_extremes(no_below=.25, no_above=0.5, keep_n=100000)\n",
    "# Convert dictionary to document – bag of words matrix\n",
    "bow_corpus2 = [dictionary2.doc2bow(doc) for doc in processed_docs2] #list of lists\n",
    "#convert the bag of words list of lists to a sparse matrix\n",
    "term_doc_matrix2 = gensim.matutils.corpus2csc(bow_corpus2)\n",
    "doc_term_matrix2 = term_doc_matrix2.transpose()\n",
    "print(doc_term_matrix2.shape)"
   ]
  },
  {
   "cell_type": "code",
   "execution_count": 10,
   "id": "91dfe7fd",
   "metadata": {},
   "outputs": [],
   "source": [
    "b = processed_docs2\n",
    "\n",
    "c = []\n",
    "\n",
    "for x in b:\n",
    "    c.append(len(x))\n",
    "\n",
    "\n",
    "c = pd.DataFrame(c).reset_index(drop=True)\n",
    "\n",
    "c = c.set_axis(['B'], axis='columns', copy=False)\n",
    "\n",
    "e = c['B']"
   ]
  },
  {
   "cell_type": "code",
   "execution_count": 11,
   "id": "b7e5384b",
   "metadata": {},
   "outputs": [
    {
     "data": {
      "text/html": [
       "<div>\n",
       "<style scoped>\n",
       "    .dataframe tbody tr th:only-of-type {\n",
       "        vertical-align: middle;\n",
       "    }\n",
       "\n",
       "    .dataframe tbody tr th {\n",
       "        vertical-align: top;\n",
       "    }\n",
       "\n",
       "    .dataframe thead th {\n",
       "        text-align: right;\n",
       "    }\n",
       "</style>\n",
       "<table border=\"1\" class=\"dataframe\">\n",
       "  <thead>\n",
       "    <tr style=\"text-align: right;\">\n",
       "      <th></th>\n",
       "      <th>alert</th>\n",
       "      <th>cops</th>\n",
       "      <th>enforcement</th>\n",
       "      <th>following</th>\n",
       "      <th>high</th>\n",
       "      <th>law</th>\n",
       "      <th>terrorists</th>\n",
       "      <th>threats</th>\n",
       "      <th>video</th>\n",
       "      <th>attorney</th>\n",
       "      <th>...</th>\n",
       "      <th>politico</th>\n",
       "      <th>age</th>\n",
       "      <th>shots</th>\n",
       "      <th>ground</th>\n",
       "      <th>jay</th>\n",
       "      <th>fails</th>\n",
       "      <th>colombia</th>\n",
       "      <th>showing</th>\n",
       "      <th>doctors</th>\n",
       "      <th>prevent</th>\n",
       "    </tr>\n",
       "  </thead>\n",
       "  <tbody>\n",
       "    <tr>\n",
       "      <th>0</th>\n",
       "      <td>1</td>\n",
       "      <td>1</td>\n",
       "      <td>1</td>\n",
       "      <td>1</td>\n",
       "      <td>1</td>\n",
       "      <td>1</td>\n",
       "      <td>1</td>\n",
       "      <td>1</td>\n",
       "      <td>1</td>\n",
       "      <td>0</td>\n",
       "      <td>...</td>\n",
       "      <td>0</td>\n",
       "      <td>0</td>\n",
       "      <td>0</td>\n",
       "      <td>0</td>\n",
       "      <td>0</td>\n",
       "      <td>0</td>\n",
       "      <td>0</td>\n",
       "      <td>0</td>\n",
       "      <td>0</td>\n",
       "      <td>0</td>\n",
       "    </tr>\n",
       "    <tr>\n",
       "      <th>1</th>\n",
       "      <td>0</td>\n",
       "      <td>0</td>\n",
       "      <td>0</td>\n",
       "      <td>0</td>\n",
       "      <td>0</td>\n",
       "      <td>0</td>\n",
       "      <td>0</td>\n",
       "      <td>0</td>\n",
       "      <td>1</td>\n",
       "      <td>1</td>\n",
       "      <td>...</td>\n",
       "      <td>0</td>\n",
       "      <td>0</td>\n",
       "      <td>0</td>\n",
       "      <td>0</td>\n",
       "      <td>0</td>\n",
       "      <td>0</td>\n",
       "      <td>0</td>\n",
       "      <td>0</td>\n",
       "      <td>0</td>\n",
       "      <td>0</td>\n",
       "    </tr>\n",
       "    <tr>\n",
       "      <th>2</th>\n",
       "      <td>0</td>\n",
       "      <td>0</td>\n",
       "      <td>0</td>\n",
       "      <td>0</td>\n",
       "      <td>0</td>\n",
       "      <td>0</td>\n",
       "      <td>0</td>\n",
       "      <td>0</td>\n",
       "      <td>0</td>\n",
       "      <td>0</td>\n",
       "      <td>...</td>\n",
       "      <td>0</td>\n",
       "      <td>0</td>\n",
       "      <td>0</td>\n",
       "      <td>0</td>\n",
       "      <td>0</td>\n",
       "      <td>0</td>\n",
       "      <td>0</td>\n",
       "      <td>0</td>\n",
       "      <td>0</td>\n",
       "      <td>0</td>\n",
       "    </tr>\n",
       "    <tr>\n",
       "      <th>3</th>\n",
       "      <td>0</td>\n",
       "      <td>0</td>\n",
       "      <td>0</td>\n",
       "      <td>0</td>\n",
       "      <td>0</td>\n",
       "      <td>0</td>\n",
       "      <td>0</td>\n",
       "      <td>0</td>\n",
       "      <td>0</td>\n",
       "      <td>0</td>\n",
       "      <td>...</td>\n",
       "      <td>0</td>\n",
       "      <td>0</td>\n",
       "      <td>0</td>\n",
       "      <td>0</td>\n",
       "      <td>0</td>\n",
       "      <td>0</td>\n",
       "      <td>0</td>\n",
       "      <td>0</td>\n",
       "      <td>0</td>\n",
       "      <td>0</td>\n",
       "    </tr>\n",
       "    <tr>\n",
       "      <th>4</th>\n",
       "      <td>0</td>\n",
       "      <td>0</td>\n",
       "      <td>0</td>\n",
       "      <td>0</td>\n",
       "      <td>0</td>\n",
       "      <td>0</td>\n",
       "      <td>0</td>\n",
       "      <td>0</td>\n",
       "      <td>0</td>\n",
       "      <td>0</td>\n",
       "      <td>...</td>\n",
       "      <td>0</td>\n",
       "      <td>0</td>\n",
       "      <td>0</td>\n",
       "      <td>0</td>\n",
       "      <td>0</td>\n",
       "      <td>0</td>\n",
       "      <td>0</td>\n",
       "      <td>0</td>\n",
       "      <td>0</td>\n",
       "      <td>0</td>\n",
       "    </tr>\n",
       "  </tbody>\n",
       "</table>\n",
       "<p>5 rows × 2262 columns</p>\n",
       "</div>"
      ],
      "text/plain": [
       "   alert  cops  enforcement  following  high  law  terrorists  threats  video  \\\n",
       "0      1     1            1          1     1    1           1        1      1   \n",
       "1      0     0            0          0     0    0           0        0      1   \n",
       "2      0     0            0          0     0    0           0        0      0   \n",
       "3      0     0            0          0     0    0           0        0      0   \n",
       "4      0     0            0          0     0    0           0        0      0   \n",
       "\n",
       "   attorney  ...  politico  age  shots  ground  jay  fails  colombia  showing  \\\n",
       "0         0  ...         0    0      0       0    0      0         0        0   \n",
       "1         1  ...         0    0      0       0    0      0         0        0   \n",
       "2         0  ...         0    0      0       0    0      0         0        0   \n",
       "3         0  ...         0    0      0       0    0      0         0        0   \n",
       "4         0  ...         0    0      0       0    0      0         0        0   \n",
       "\n",
       "   doctors  prevent  \n",
       "0        0        0  \n",
       "1        0        0  \n",
       "2        0        0  \n",
       "3        0        0  \n",
       "4        0        0  \n",
       "\n",
       "[5 rows x 2262 columns]"
      ]
     },
     "execution_count": 11,
     "metadata": {},
     "output_type": "execute_result"
    }
   ],
   "source": [
    "df2 = pd.DataFrame(doc_term_matrix2.toarray().astype('int32'),columns=dictionary2.values())\n",
    "\n",
    "df2.head()"
   ]
  },
  {
   "cell_type": "code",
   "execution_count": 12,
   "id": "798c61d3",
   "metadata": {},
   "outputs": [
    {
     "name": "stdout",
     "output_type": "stream",
     "text": [
      "(71537,)\n",
      "(71537, 4886)\n",
      "(71537, 2262)\n",
      "(71537,)\n",
      "(71537,)\n"
     ]
    }
   ],
   "source": [
    "y = use.loc[:,'label']\n",
    "x = df\n",
    "z = df2\n",
    "v = d\n",
    "u = e\n",
    "print(y.shape)\n",
    "print(x.shape)\n",
    "print(z.shape)\n",
    "print(v.shape)\n",
    "print(u.shape)\n"
   ]
  },
  {
   "cell_type": "code",
   "execution_count": 36,
   "id": "82117d80",
   "metadata": {},
   "outputs": [],
   "source": [
    "from sklearn.preprocessing import StandardScaler\n",
    "# Peform Split with validation size 40% and training 60%\n",
    "X_train, X_test, y_train, y_test, z_train, z_test, v_train, v_test, u_train, u_test = train_test_split(x, y, z, v, u, test_size = 0.3, random_state=42)"
   ]
  },
  {
   "cell_type": "code",
   "execution_count": 14,
   "id": "ff17858b",
   "metadata": {},
   "outputs": [
    {
     "name": "stdout",
     "output_type": "stream",
     "text": [
      "Accuracy score: 56%\n",
      "Precision: 0.541\n",
      "Recall: 0.848\n"
     ]
    }
   ],
   "source": [
    "scaler = StandardScaler()\n",
    "v_train = scaler.fit_transform(pd.DataFrame(v_train))\n",
    "v_test = scaler.transform(pd.DataFrame(v_test))\n",
    "model = LogisticRegression(solver = \"lbfgs\", max_iter=1000)\n",
    "model.fit(pd.DataFrame(v_train), y_train)\n",
    "y_pred = model.predict(pd.DataFrame(v_test))\n",
    "score = accuracy_score(y_test, y_pred)\n",
    "print(\"Accuracy score: {}%\".format(round(score*100)))\n",
    "print('Precision: %.3f' % precision_score(y_test, y_pred))\n",
    "print('Recall: %.3f' % recall_score(y_test, y_pred))"
   ]
  },
  {
   "cell_type": "code",
   "execution_count": 15,
   "id": "33fda7f3",
   "metadata": {},
   "outputs": [
    {
     "name": "stdout",
     "output_type": "stream",
     "text": [
      "0        0.877663\n",
      "1        0.329113\n",
      "2       -0.376166\n",
      "3       -0.198339\n",
      "4       -0.370138\n",
      "           ...   \n",
      "50070   -0.629343\n",
      "50071    3.065837\n",
      "50072    0.066894\n",
      "50073   -0.095863\n",
      "50074   -0.475628\n",
      "Name: D, Length: 50075, dtype: float64\n",
      "0       -0.737847\n",
      "1        1.170023\n",
      "2       -0.761960\n",
      "3        1.818035\n",
      "4       -0.795114\n",
      "           ...   \n",
      "21457   -0.119975\n",
      "21458   -0.888548\n",
      "21459   -0.409320\n",
      "21460   -0.780044\n",
      "21461   -0.822240\n",
      "Name: D, Length: 21462, dtype: float64\n"
     ]
    }
   ],
   "source": [
    "v_train = pd.DataFrame(v_train).reset_index(drop=True)\n",
    "\n",
    "v_train = v_train.set_axis(['D'], axis='columns', copy=False)\n",
    "\n",
    "v_train = v_train['D']\n",
    "\n",
    "print(v_train)\n",
    "\n",
    "v_test = pd.DataFrame(v_test).reset_index(drop=True)\n",
    "\n",
    "v_test = v_test.set_axis(['D'], axis='columns', copy=False)\n",
    "\n",
    "v_test = v_test['D']\n",
    "\n",
    "print(v_test)"
   ]
  },
  {
   "cell_type": "code",
   "execution_count": 16,
   "id": "d41f98a3",
   "metadata": {},
   "outputs": [
    {
     "name": "stdout",
     "output_type": "stream",
     "text": [
      "Accuracy score: 61%\n",
      "Precision: 0.620\n",
      "Recall: 0.597\n"
     ]
    }
   ],
   "source": [
    "scaler = StandardScaler()\n",
    "u_train = scaler.fit_transform(pd.DataFrame(u_train))\n",
    "u_test = scaler.transform(pd.DataFrame(u_test))\n",
    "model = LogisticRegression(solver = \"lbfgs\", max_iter=1000)\n",
    "model.fit(pd.DataFrame(u_train), y_train)\n",
    "y_pred = model.predict(pd.DataFrame(u_test))\n",
    "score = accuracy_score(y_test, y_pred)\n",
    "print(\"Accuracy score: {}%\".format(round(score*100)))\n",
    "print('Precision: %.3f' % precision_score(y_test, y_pred))\n",
    "print('Recall: %.3f' % recall_score(y_test, y_pred))"
   ]
  },
  {
   "cell_type": "code",
   "execution_count": 17,
   "id": "2806b61f",
   "metadata": {},
   "outputs": [
    {
     "name": "stdout",
     "output_type": "stream",
     "text": [
      "0        1.488341\n",
      "1       -0.629713\n",
      "2       -0.629713\n",
      "3        0.429314\n",
      "4        0.429314\n",
      "           ...   \n",
      "50070    0.076305\n",
      "50071    1.135332\n",
      "50072    0.782323\n",
      "50073    0.429314\n",
      "50074    1.488341\n",
      "Name: C, Length: 50075, dtype: float64\n",
      "0        0.429314\n",
      "1       -0.629713\n",
      "2       -0.276704\n",
      "3       -2.394759\n",
      "4        0.076305\n",
      "           ...   \n",
      "21457    0.429314\n",
      "21458    0.429314\n",
      "21459    1.135332\n",
      "21460   -0.276704\n",
      "21461    1.135332\n",
      "Name: C, Length: 21462, dtype: float64\n"
     ]
    }
   ],
   "source": [
    "u_train = pd.DataFrame(u_train).reset_index(drop=True)\n",
    "\n",
    "u_train = u_train.set_axis(['C'], axis='columns', copy=False)\n",
    "\n",
    "u_train = u_train['C']\n",
    "\n",
    "print(u_train)\n",
    "\n",
    "u_test = pd.DataFrame(u_test).reset_index(drop=True)\n",
    "\n",
    "u_test = u_test.set_axis(['C'], axis='columns', copy=False)\n",
    "\n",
    "u_test = u_test['C']\n",
    "\n",
    "print(u_test)"
   ]
  },
  {
   "cell_type": "code",
   "execution_count": 38,
   "id": "06d57ea5",
   "metadata": {},
   "outputs": [
    {
     "name": "stdout",
     "output_type": "stream",
     "text": [
      "Features before PCA: 4886\n"
     ]
    }
   ],
   "source": [
    "print('Features before PCA: {}'.format(X_train.shape[1]))\n",
    "# Initialize scaler, fit/transform train data and transform test data\n",
    "scaler = StandardScaler()\n",
    "X_train = scaler.fit_transform(X_train)\n",
    "X_test = scaler.transform(X_test)\n",
    "# Initialize PCA to peforme dimension reduction on the current 445 features\n",
    "pca = PCA(n_components = 500)\n",
    "X_train_pca = pca.fit_transform(X_train)\n",
    "X_test_pca = pca.transform(X_test)\n"
   ]
  },
  {
   "cell_type": "code",
   "execution_count": 39,
   "id": "252088e3",
   "metadata": {},
   "outputs": [
    {
     "data": {
      "text/plain": [
       "Text(0.5, 1.0, 'Scree Plot')"
      ]
     },
     "execution_count": 39,
     "metadata": {},
     "output_type": "execute_result"
    },
    {
     "data": {
      "image/png": "[encoded data removed]",
      "text/plain": [
       "<Figure size 640x480 with 1 Axes>"
      ]
     },
     "metadata": {},
     "output_type": "display_data"
    }
   ],
   "source": [
    "import matplotlib.pyplot as plt\n",
    "plt.style.use(\"ggplot\") \n",
    "plt.plot(pca.explained_variance_, marker='o')\n",
    "plt.xlabel(\"Eigenvalue number\")\n",
    "plt.ylabel(\"Eigenvalue size\")\n",
    "plt.title(\"Scree Plot\")"
   ]
  },
  {
   "cell_type": "code",
   "execution_count": 43,
   "id": "f042dc91",
   "metadata": {},
   "outputs": [
    {
     "data": {
      "text/plain": [
       "array([[10.9763618 , -4.18327005, 15.84846138, ..., -2.34615438,\n",
       "        -1.94014035, -1.01555812],\n",
       "       [ 3.76826065, -7.31725687,  0.04484611, ..., -0.32520406,\n",
       "         1.39685731, -0.07526553],\n",
       "       [-4.85653113, -2.57023524,  0.87190897, ..., -1.00301158,\n",
       "        -0.31386625, -0.343607  ],\n",
       "       ...,\n",
       "       [ 0.59768973, -3.15587602, -0.40822533, ..., -0.34951502,\n",
       "        -0.78608586,  0.59348171],\n",
       "       [-1.60981732, -0.85007108, -8.01977373, ..., -0.07522947,\n",
       "         1.04887739, -1.63086752],\n",
       "       [-5.1007293 ,  1.06185817,  0.18479113, ..., -0.39146446,\n",
       "        -0.72989086,  0.0836121 ]])"
      ]
     },
     "execution_count": 43,
     "metadata": {},
     "output_type": "execute_result"
    }
   ],
   "source": [
    "X_train_pca"
   ]
  },
  {
   "cell_type": "code",
   "execution_count": 34,
   "id": "036c7d31",
   "metadata": {},
   "outputs": [
    {
     "name": "stdout",
     "output_type": "stream",
     "text": [
      "Accuracy score: 88%\n",
      "Precision: 0.870\n",
      "Recall: 0.898\n"
     ]
    }
   ],
   "source": [
    "model = LogisticRegression(solver = \"lbfgs\", max_iter=2000)\n",
    "model.fit(X_train_pca, y_train)\n",
    "y_pred = model.predict(X_test_pca)\n",
    "score = accuracy_score(y_test, y_pred)\n",
    "print(\"Accuracy score: {}%\".format(round(score*100)))\n",
    "print('Precision: %.3f' % precision_score(y_test, y_pred))\n",
    "print('Recall: %.3f' % recall_score(y_test, y_pred))"
   ]
  },
  {
   "cell_type": "code",
   "execution_count": 89,
   "id": "2c6e2796",
   "metadata": {},
   "outputs": [
    {
     "data": {
      "text/plain": [
       "(28615, 500)"
      ]
     },
     "execution_count": 89,
     "metadata": {},
     "output_type": "execute_result"
    }
   ],
   "source": [
    "X_train_pca.shape\n",
    "\n",
    "X_test_pca.shape"
   ]
  },
  {
   "cell_type": "code",
   "execution_count": 101,
   "id": "62a22fe8",
   "metadata": {},
   "outputs": [
    {
     "name": "stdout",
     "output_type": "stream",
     "text": [
      "Features before PCA: 2262\n"
     ]
    }
   ],
   "source": [
    "print('Features before PCA: {}'.format(z_train.shape[1]))\n",
    "# Initialize scaler, fit/transform train data and transform test data\n",
    "scaler = StandardScaler()\n",
    "z_train = scaler.fit_transform(z_train)\n",
    "z_test = scaler.transform(z_test)\n",
    "# Initialize PCA to peforme dimension reduction on the current 445 features\n",
    "pca = PCA(n_components = 10)\n",
    "z_train_pca = pca.fit_transform(z_train)\n",
    "z_test_pca = pca.transform(z_test)\n",
    "\n"
   ]
  },
  {
   "cell_type": "code",
   "execution_count": 102,
   "id": "6d00d83c",
   "metadata": {},
   "outputs": [
    {
     "data": {
      "text/plain": [
       "array([0.00163764, 0.00140543, 0.00131619, 0.00125118, 0.00121756,\n",
       "       0.00117172, 0.00109839, 0.0010598 , 0.00105403, 0.00103413,\n",
       "       0.00101662, 0.00101335, 0.00100943, 0.00099549, 0.00097654,\n",
       "       0.00097213, 0.00096919, 0.00095548, 0.00094617, 0.00094026,\n",
       "       0.00093335, 0.00092646, 0.0009187 , 0.00091463, 0.00091205,\n",
       "       0.00090242, 0.00089611, 0.00088844, 0.00087838, 0.00087322,\n",
       "       0.00086552, 0.00085913, 0.00085814, 0.00084898, 0.00084412,\n",
       "       0.00084159, 0.00083902, 0.00083736, 0.00083223, 0.00082814,\n",
       "       0.00082236, 0.00082091, 0.00081217, 0.00080835, 0.00080398,\n",
       "       0.0007971 , 0.0007959 , 0.00079003, 0.00077997, 0.00077631])"
      ]
     },
     "execution_count": 102,
     "metadata": {},
     "output_type": "execute_result"
    }
   ],
   "source": [
    "pca.explained_variance_ratio_"
   ]
  },
  {
   "cell_type": "code",
   "execution_count": 103,
   "id": "87442292",
   "metadata": {},
   "outputs": [
    {
     "data": {
      "text/plain": [
       "Text(0.5, 1.0, 'Scree Plot')"
      ]
     },
     "execution_count": 103,
     "metadata": {},
     "output_type": "execute_result"
    },
    {
     "data": {
      "image/png": "[encoded data removed]",
      "text/plain": [
       "<Figure size 640x480 with 1 Axes>"
      ]
     },
     "metadata": {},
     "output_type": "display_data"
    }
   ],
   "source": [
    "import matplotlib.pyplot as plt\n",
    "plt.style.use(\"ggplot\") \n",
    "plt.plot(pca.explained_variance_, marker='o')\n",
    "plt.xlabel(\"Eigenvalue number\")\n",
    "plt.ylabel(\"Eigenvalue size\")\n",
    "plt.title(\"Scree Plot\")"
   ]
  },
  {
   "cell_type": "code",
   "execution_count": 94,
   "id": "af5537dd",
   "metadata": {},
   "outputs": [
    {
     "name": "stdout",
     "output_type": "stream",
     "text": [
      "Accuracy score: 79%\n",
      "Precision: 0.797\n",
      "Recall: 0.782\n"
     ]
    }
   ],
   "source": [
    "model = LogisticRegression(solver = \"lbfgs\", max_iter=1000)\n",
    "model.fit(z_train_pca, y_train)\n",
    "y_pred = model.predict(z_test_pca)\n",
    "score = accuracy_score(y_test, y_pred)\n",
    "print(\"Accuracy score: {}%\".format(round(score*100)))\n",
    "print('Precision: %.3f' % precision_score(y_test, y_pred))\n",
    "print('Recall: %.3f' % recall_score(y_test, y_pred))"
   ]
  },
  {
   "cell_type": "code",
   "execution_count": 90,
   "id": "422ed4d1",
   "metadata": {},
   "outputs": [
    {
     "data": {
      "text/plain": [
       "(28615, 200)"
      ]
     },
     "execution_count": 90,
     "metadata": {},
     "output_type": "execute_result"
    }
   ],
   "source": [
    "z_train_pca.shape\n",
    "\n",
    "z_test_pca.shape"
   ]
  },
  {
   "cell_type": "code",
   "execution_count": 72,
   "id": "87b5dcb3",
   "metadata": {},
   "outputs": [
    {
     "name": "stdout",
     "output_type": "stream",
     "text": [
      "(50075, 1502)\n",
      "(21462, 1502)\n"
     ]
    }
   ],
   "source": [
    "t_train_pca = pd.merge(pd.DataFrame(X_train_pca), pd.DataFrame(z_train_pca),left_index=True, right_index=True)\n",
    "\n",
    "r_train_pca = pd.merge(pd.DataFrame(t_train_pca), v_train,left_index=True, right_index=True)\n",
    "\n",
    "w_train_pca = pd.merge(pd.DataFrame(r_train_pca), u_train,left_index=True, right_index=True)\n",
    "\n",
    "t_test_pca = pd.merge(pd.DataFrame(X_test_pca), pd.DataFrame(z_test_pca),left_index=True, right_index=True)\n",
    "\n",
    "r_test_pca = pd.merge(pd.DataFrame(t_test_pca), v_test,left_index=True, right_index=True)\n",
    "\n",
    "w_test_pca = pd.merge(pd.DataFrame(r_test_pca), u_test,left_index=True, right_index=True)\n",
    "\n",
    "print(w_train_pca.shape)\n",
    "\n",
    "print(w_test_pca.shape)\n",
    "\n",
    "w_train_pca.columns=[\"principal component\"+str(i) for i in range(1, w_train_pca.shape[1] + 1)]\n",
    "\n",
    "w_test_pca.columns=[\"principal component\"+str(i) for i in range(1, w_test_pca.shape[1] + 1)]"
   ]
  },
  {
   "cell_type": "code",
   "execution_count": 73,
   "id": "888af58d",
   "metadata": {},
   "outputs": [
    {
     "data": {
      "text/plain": [
       "LogisticRegression(max_iter=2000)"
      ]
     },
     "execution_count": 73,
     "metadata": {},
     "output_type": "execute_result"
    }
   ],
   "source": [
    "model = LogisticRegression(solver = \"lbfgs\", max_iter=2000)\n",
    "model.fit(w_train_pca, y_train)"
   ]
  },
  {
   "cell_type": "code",
   "execution_count": 74,
   "id": "6cac80a0",
   "metadata": {},
   "outputs": [
    {
     "name": "stdout",
     "output_type": "stream",
     "text": [
      "Accuracy score: 94%\n",
      "Precision: 0.941\n",
      "Recall: 0.934\n"
     ]
    }
   ],
   "source": [
    "y_pred = model.predict(w_test_pca)\n",
    "score = accuracy_score(y_test, y_pred)\n",
    "print(\"Accuracy score: {}%\".format(round(score*100)))\n",
    "print('Precision: %.3f' % precision_score(y_test, y_pred))\n",
    "print('Recall: %.3f' % recall_score(y_test, y_pred))"
   ]
  },
  {
   "cell_type": "code",
   "execution_count": 75,
   "id": "9a8be50b",
   "metadata": {},
   "outputs": [
    {
     "data": {
      "image/png": "[encoded data removed]",
      "text/plain": [
       "<Figure size 640x480 with 2 Axes>"
      ]
     },
     "metadata": {},
     "output_type": "display_data"
    }
   ],
   "source": [
    "from sklearn import metrics\n",
    "import matplotlib.pyplot as plt\n",
    "\n",
    "confusion_matrix = metrics.confusion_matrix(y_test, y_pred)\n",
    "\n",
    "cm_display = metrics.ConfusionMatrixDisplay(confusion_matrix = confusion_matrix, display_labels = ['Not-Popular', 'Popular'])\n",
    "\n",
    "cm_display.plot()\n",
    "plt.show()"
   ]
  },
  {
   "cell_type": "code",
   "execution_count": null,
   "id": "1dc36b16",
   "metadata": {},
   "outputs": [],
   "source": []
  },
  {
   "cell_type": "code",
   "execution_count": null,
   "id": "4aa1926b",
   "metadata": {},
   "outputs": [],
   "source": []
  }
 ],
 "metadata": {
  "kernelspec": {
   "display_name": "Python 3 (ipykernel)",
   "language": "python",
   "name": "python3"
  },
  "language_info": {
   "codemirror_mode": {
    "name": "ipython",
    "version": 3
   },
   "file_extension": ".py",
   "mimetype": "text/x-python",
   "name": "python",
   "nbconvert_exporter": "python",
   "pygments_lexer": "ipython3",
   "version": "3.9.7"
  }
 },
 "nbformat": 4,
 "nbformat_minor": 5
}
