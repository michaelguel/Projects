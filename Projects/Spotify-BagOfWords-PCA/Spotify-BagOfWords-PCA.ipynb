{
 "cells": [
  {
   "cell_type": "code",
   "execution_count": 2,
   "id": "2a152d3c",
   "metadata": {},
   "outputs": [
    {
     "name": "stderr",
     "output_type": "stream",
     "text": [
      "[nltk_data] Downloading package stopwords to\n",
      "[nltk_data]     C:\\Users\\Owner\\AppData\\Roaming\\nltk_data...\n",
      "[nltk_data]   Package stopwords is already up-to-date!\n",
      "[nltk_data] Downloading package wordnet to\n",
      "[nltk_data]     C:\\Users\\Owner\\AppData\\Roaming\\nltk_data...\n",
      "[nltk_data]   Package wordnet is already up-to-date!\n",
      "[nltk_data] Downloading package omw-1.4 to\n",
      "[nltk_data]     C:\\Users\\Owner\\AppData\\Roaming\\nltk_data...\n",
      "[nltk_data]   Package omw-1.4 is already up-to-date!\n"
     ]
    },
    {
     "data": {
      "text/plain": [
       "True"
      ]
     },
     "execution_count": 2,
     "metadata": {},
     "output_type": "execute_result"
    }
   ],
   "source": [
    "import pandas as pd\n",
    "import gensim\n",
    "from gensim.utils import simple_preprocess\n",
    "from gensim.parsing.preprocessing import STOPWORDS\n",
    "from nltk.stem import WordNetLemmatizer, SnowballStemmer\n",
    "from nltk.stem.porter import *\n",
    "import numpy as np\n",
    "np.random.seed(891)\n",
    "from nltk.corpus import stopwords\n",
    "import re\n",
    "import scipy.sparse\n",
    "import nltk\n",
    "from sklearn.model_selection import train_test_split\n",
    "from sklearn.linear_model import LogisticRegression\n",
    "from sklearn.metrics import accuracy_score\n",
    "from sklearn.decomposition import PCA\n",
    "nltk.download('stopwords')\n",
    "nltk.download('wordnet')\n",
    "nltk.download('omw-1.4')\n"
   ]
  },
  {
   "cell_type": "code",
   "execution_count": 3,
   "id": "150105f0",
   "metadata": {},
   "outputs": [],
   "source": [
    "data = pd.read_csv('spotify_dataset.csv', sep= ',')\n",
    "\n",
    "data.head()\n",
    "\n",
    "tracks = data[[\"track\",\"popularity\"]]\n",
    "\n",
    "\n",
    "\n",
    "\n",
    "#print(tracks.shape)"
   ]
  },
  {
   "cell_type": "code",
   "execution_count": 4,
   "id": "d3f8190a",
   "metadata": {},
   "outputs": [],
   "source": [
    "stop = set(stopwords.words('english'))\n",
    "#Create a stemmer\n",
    "stemmer = SnowballStemmer(language = 'english')\n",
    "#Create a lemmatizer\n",
    "lemma = WordNetLemmatizer()\n",
    "#Stem and lemmatize a term\n",
    "def lemmatize_stemming(term):\n",
    "    term = lemma.lemmatize(term, pos='v') # Lemmatize\n",
    "    term = stemmer.stem(term) #Stem\n",
    "    return term\n",
    "\n",
    "def preprocess(text):\n",
    "    result = []\n",
    "    for token in gensim.utils.simple_preprocess(text): #Deaccents and splits terms\n",
    "        token = re.sub(\"\\W\",\"\",token) #Remove special characters, punctuation, spaces\n",
    "\n",
    "        token = token.lower() #lowercase string\n",
    "\n",
    "        if token in stop: # Stopword removal: Remove \"token not in stop\" to keep stopwords\n",
    "            token = \"\"\n",
    "\n",
    "        if token.startswith(\"http\"): #entity recognition of URLs.\n",
    "            token = \"URL_\"\n",
    "\n",
    "        if len(token) > 3:\n",
    "            result.append(token)\n",
    "    return result\n",
    "# These will be applicable because the corpus contains special characters, punctuation, spaces, urls and accent\n",
    "# terms"
   ]
  },
  {
   "cell_type": "code",
   "execution_count": 5,
   "id": "7ca3f884",
   "metadata": {},
   "outputs": [
    {
     "data": {
      "text/plain": [
       "0    [jealous, kind, fella]\n",
       "1                [initials]\n",
       "2           [melody, twist]\n",
       "3             [bomba, sonó]\n",
       "4            [uravu, solla]\n",
       "Name: track, dtype: object"
      ]
     },
     "execution_count": 5,
     "metadata": {},
     "output_type": "execute_result"
    }
   ],
   "source": [
    "processed_docs = tracks['track'].map(preprocess)\n",
    "\n",
    "processed_docs.head()"
   ]
  },
  {
   "cell_type": "code",
   "execution_count": 6,
   "id": "26464a9e",
   "metadata": {},
   "outputs": [
    {
     "name": "stdout",
     "output_type": "stream",
     "text": [
      "(41099, 2536)\n"
     ]
    }
   ],
   "source": [
    "# Create a dictionary – word and its frequency in all documents\n",
    "dictionary = gensim.corpora.Dictionary(processed_docs)\n",
    "# Filter out infrequent terms appearing less than N times (no_below=N),\n",
    "# terms appearing in more than 50% of documents (no_above=0.5), and keep\n",
    "# only the top 100,000 terms (keep_n=100000)\n",
    "dictionary.filter_extremes(no_below=5, no_above=0.5, keep_n=100000)\n",
    "# Convert dictionary to document – bag of words matrix\n",
    "bow_corpus = [dictionary.doc2bow(doc) for doc in processed_docs] #list of lists\n",
    "#convert the bag of words list of lists to a sparse matrix\n",
    "term_doc_matrix = gensim.matutils.corpus2csc(bow_corpus)\n",
    "doc_term_matrix = term_doc_matrix.transpose()\n",
    "print(doc_term_matrix.shape)"
   ]
  },
  {
   "cell_type": "code",
   "execution_count": 7,
   "id": "9da44865",
   "metadata": {},
   "outputs": [
    {
     "data": {
      "text/html": [
       "<div>\n",
       "<style scoped>\n",
       "    .dataframe tbody tr th:only-of-type {\n",
       "        vertical-align: middle;\n",
       "    }\n",
       "\n",
       "    .dataframe tbody tr th {\n",
       "        vertical-align: top;\n",
       "    }\n",
       "\n",
       "    .dataframe thead th {\n",
       "        text-align: right;\n",
       "    }\n",
       "</style>\n",
       "<table border=\"1\" class=\"dataframe\">\n",
       "  <thead>\n",
       "    <tr style=\"text-align: right;\">\n",
       "      <th></th>\n",
       "      <th>jealous</th>\n",
       "      <th>kind</th>\n",
       "      <th>melody</th>\n",
       "      <th>twist</th>\n",
       "      <th>bomba</th>\n",
       "      <th>beat</th>\n",
       "      <th>nota</th>\n",
       "      <th>note</th>\n",
       "      <th>samba</th>\n",
       "      <th>days</th>\n",
       "      <th>...</th>\n",
       "      <th>garage</th>\n",
       "      <th>spiegel</th>\n",
       "      <th>balamurali</th>\n",
       "      <th>chebika</th>\n",
       "      <th>claudio</th>\n",
       "      <th>binaural</th>\n",
       "      <th>sinus</th>\n",
       "      <th>graspop</th>\n",
       "      <th>asle</th>\n",
       "      <th>attention</th>\n",
       "    </tr>\n",
       "  </thead>\n",
       "  <tbody>\n",
       "    <tr>\n",
       "      <th>0</th>\n",
       "      <td>1</td>\n",
       "      <td>1</td>\n",
       "      <td>0</td>\n",
       "      <td>0</td>\n",
       "      <td>0</td>\n",
       "      <td>0</td>\n",
       "      <td>0</td>\n",
       "      <td>0</td>\n",
       "      <td>0</td>\n",
       "      <td>0</td>\n",
       "      <td>...</td>\n",
       "      <td>0</td>\n",
       "      <td>0</td>\n",
       "      <td>0</td>\n",
       "      <td>0</td>\n",
       "      <td>0</td>\n",
       "      <td>0</td>\n",
       "      <td>0</td>\n",
       "      <td>0</td>\n",
       "      <td>0</td>\n",
       "      <td>0</td>\n",
       "    </tr>\n",
       "    <tr>\n",
       "      <th>1</th>\n",
       "      <td>0</td>\n",
       "      <td>0</td>\n",
       "      <td>0</td>\n",
       "      <td>0</td>\n",
       "      <td>0</td>\n",
       "      <td>0</td>\n",
       "      <td>0</td>\n",
       "      <td>0</td>\n",
       "      <td>0</td>\n",
       "      <td>0</td>\n",
       "      <td>...</td>\n",
       "      <td>0</td>\n",
       "      <td>0</td>\n",
       "      <td>0</td>\n",
       "      <td>0</td>\n",
       "      <td>0</td>\n",
       "      <td>0</td>\n",
       "      <td>0</td>\n",
       "      <td>0</td>\n",
       "      <td>0</td>\n",
       "      <td>0</td>\n",
       "    </tr>\n",
       "    <tr>\n",
       "      <th>2</th>\n",
       "      <td>0</td>\n",
       "      <td>0</td>\n",
       "      <td>1</td>\n",
       "      <td>1</td>\n",
       "      <td>0</td>\n",
       "      <td>0</td>\n",
       "      <td>0</td>\n",
       "      <td>0</td>\n",
       "      <td>0</td>\n",
       "      <td>0</td>\n",
       "      <td>...</td>\n",
       "      <td>0</td>\n",
       "      <td>0</td>\n",
       "      <td>0</td>\n",
       "      <td>0</td>\n",
       "      <td>0</td>\n",
       "      <td>0</td>\n",
       "      <td>0</td>\n",
       "      <td>0</td>\n",
       "      <td>0</td>\n",
       "      <td>0</td>\n",
       "    </tr>\n",
       "    <tr>\n",
       "      <th>3</th>\n",
       "      <td>0</td>\n",
       "      <td>0</td>\n",
       "      <td>0</td>\n",
       "      <td>0</td>\n",
       "      <td>1</td>\n",
       "      <td>0</td>\n",
       "      <td>0</td>\n",
       "      <td>0</td>\n",
       "      <td>0</td>\n",
       "      <td>0</td>\n",
       "      <td>...</td>\n",
       "      <td>0</td>\n",
       "      <td>0</td>\n",
       "      <td>0</td>\n",
       "      <td>0</td>\n",
       "      <td>0</td>\n",
       "      <td>0</td>\n",
       "      <td>0</td>\n",
       "      <td>0</td>\n",
       "      <td>0</td>\n",
       "      <td>0</td>\n",
       "    </tr>\n",
       "    <tr>\n",
       "      <th>4</th>\n",
       "      <td>0</td>\n",
       "      <td>0</td>\n",
       "      <td>0</td>\n",
       "      <td>0</td>\n",
       "      <td>0</td>\n",
       "      <td>0</td>\n",
       "      <td>0</td>\n",
       "      <td>0</td>\n",
       "      <td>0</td>\n",
       "      <td>0</td>\n",
       "      <td>...</td>\n",
       "      <td>0</td>\n",
       "      <td>0</td>\n",
       "      <td>0</td>\n",
       "      <td>0</td>\n",
       "      <td>0</td>\n",
       "      <td>0</td>\n",
       "      <td>0</td>\n",
       "      <td>0</td>\n",
       "      <td>0</td>\n",
       "      <td>0</td>\n",
       "    </tr>\n",
       "  </tbody>\n",
       "</table>\n",
       "<p>5 rows × 2536 columns</p>\n",
       "</div>"
      ],
      "text/plain": [
       "   jealous  kind  melody  twist  bomba  beat  nota  note  samba  days  ...  \\\n",
       "0        1     1       0      0      0     0     0     0      0     0  ...   \n",
       "1        0     0       0      0      0     0     0     0      0     0  ...   \n",
       "2        0     0       1      1      0     0     0     0      0     0  ...   \n",
       "3        0     0       0      0      1     0     0     0      0     0  ...   \n",
       "4        0     0       0      0      0     0     0     0      0     0  ...   \n",
       "\n",
       "   garage  spiegel  balamurali  chebika  claudio  binaural  sinus  graspop  \\\n",
       "0       0        0           0        0        0         0      0        0   \n",
       "1       0        0           0        0        0         0      0        0   \n",
       "2       0        0           0        0        0         0      0        0   \n",
       "3       0        0           0        0        0         0      0        0   \n",
       "4       0        0           0        0        0         0      0        0   \n",
       "\n",
       "   asle  attention  \n",
       "0     0          0  \n",
       "1     0          0  \n",
       "2     0          0  \n",
       "3     0          0  \n",
       "4     0          0  \n",
       "\n",
       "[5 rows x 2536 columns]"
      ]
     },
     "execution_count": 7,
     "metadata": {},
     "output_type": "execute_result"
    }
   ],
   "source": [
    "df = pd.DataFrame(doc_term_matrix.toarray().astype('int32'),columns=dictionary.values())\n",
    "\n",
    "df.head()"
   ]
  },
  {
   "cell_type": "code",
   "execution_count": 29,
   "id": "06d57ea5",
   "metadata": {},
   "outputs": [
    {
     "name": "stdout",
     "output_type": "stream",
     "text": [
      "Features before PCA: 2536\n"
     ]
    }
   ],
   "source": [
    "from sklearn.preprocessing import StandardScaler\n",
    "# Seperate Dependent and Independent variables to be split\n",
    "y = tracks.iloc[:,1]\n",
    "x = df\n",
    "# Peform Split with validation size 40% and training 60%\n",
    "X_train, X_test, y_train, y_test = train_test_split(x, y, test_size = 0.4, random_state=42)\n",
    "print('Features before PCA: {}'.format(X_train.shape[1]))\n",
    "# Initialize scaler, fit/transform train data and transform test data\n",
    "scaler = StandardScaler()\n",
    "X_train = scaler.fit_transform(X_train)\n",
    "X_test = scaler.transform(X_test)\n",
    "# Initialize PCA to peforme dimension reduction on the current 445 features\n",
    "pca = PCA(n_components = 500)\n",
    "X_train_pca = pca.fit_transform(X_train)\n",
    "X_test_pca = pca.transform(X_test)\n"
   ]
  },
  {
   "cell_type": "code",
   "execution_count": 30,
   "id": "888af58d",
   "metadata": {},
   "outputs": [
    {
     "data": {
      "text/plain": [
       "LogisticRegression(max_iter=500)"
      ]
     },
     "execution_count": 30,
     "metadata": {},
     "output_type": "execute_result"
    }
   ],
   "source": [
    "model = LogisticRegression(solver = \"lbfgs\", max_iter=500)\n",
    "model.fit(X_train_pca, y_train)"
   ]
  },
  {
   "cell_type": "code",
   "execution_count": 31,
   "id": "6cac80a0",
   "metadata": {},
   "outputs": [
    {
     "name": "stdout",
     "output_type": "stream",
     "text": [
      "Accuracy score: 71%\n"
     ]
    }
   ],
   "source": [
    "y_pred = model.predict(X_test_pca)\n",
    "score = accuracy_score(y_test, y_pred)\n",
    "print(\"Accuracy score: {}%\".format(round(score*100)))"
   ]
  },
  {
   "cell_type": "code",
   "execution_count": null,
   "id": "9a8be50b",
   "metadata": {},
   "outputs": [],
   "source": []
  }
 ],
 "metadata": {
  "kernelspec": {
   "display_name": "Python 3 (ipykernel)",
   "language": "python",
   "name": "python3"
  },
  "language_info": {
   "codemirror_mode": {
    "name": "ipython",
    "version": 3
   },
   "file_extension": ".py",
   "mimetype": "text/x-python",
   "name": "python",
   "nbconvert_exporter": "python",
   "pygments_lexer": "ipython3",
   "version": "3.9.7"
  }
 },
 "nbformat": 4,
 "nbformat_minor": 5
}
